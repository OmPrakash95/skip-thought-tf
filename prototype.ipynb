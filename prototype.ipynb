{
 "cells": [
  {
   "cell_type": "markdown",
   "metadata": {},
   "source": [
    "%TODO\n",
    "* add vocab_size feature to data_reader & vocab\n",
    "* next_seq decoder\n",
    "* prev_seq decoder"
   ]
  },
  {
   "cell_type": "code",
   "execution_count": 1,
   "metadata": {
    "collapsed": false
   },
   "outputs": [],
   "source": [
    "import data_reader\n",
    "import utils\n",
    "import tensorflow as tf\n",
    "import math\n",
    "import numpy as np"
   ]
  },
  {
   "cell_type": "code",
   "execution_count": 2,
   "metadata": {
    "collapsed": false
   },
   "outputs": [],
   "source": [
    "dr = data_reader.SequenceDataReader('data/chats.txt')\n",
    "\n",
    "origin_X = dr.get_data()\n",
    "prev_X = [[]]+dr.get_data()[:-1]\n",
    "next_X = dr.get_data()[1:]+[[]]\n",
    "\n",
    "it = utils.seq2seq_data_iterator(dr.get_data(), dr.get_data())"
   ]
  },
  {
   "cell_type": "code",
   "execution_count": 3,
   "metadata": {
    "collapsed": false
   },
   "outputs": [],
   "source": [
    "FLAGS = tf.app.flags.FLAGS\n",
    "tf.app.flags.DEFINE_integer('num_hidden', 10, 'Hidden size of GRU cell.')\n",
    "tf.app.flags.DEFINE_integer('embedding_size', 300, 'The size of word embeddings.')\n",
    "tf.app.flags.DEFINE_integer('vocab_size', 20000, 'Size of vocabulary. Most frequent words are used.')"
   ]
  },
  {
   "cell_type": "markdown",
   "metadata": {},
   "source": [
    "## Define placeholders and function for filling feed dictionary.\n",
    "\n",
    "Because all `*_decoder` functions in `tf.nn.seq2seq` take lists as inputs, we can't do the same thing for supporting variable-length sequences as we do for encoder (`input_placeholder`).\n",
    "\n",
    "To manage this problem, we could use bucketing (`tf.nn.seq2seq.model_with_buckets`) or just calculate maximum length of line in dataset and create such number of placeholders for decoder. \n",
    "\n",
    "`SequenceDataReader` has `max_length` property for that."
   ]
  },
  {
   "cell_type": "code",
   "execution_count": 5,
   "metadata": {
    "collapsed": false
   },
   "outputs": [],
   "source": [
    "# Encoder input\n",
    "input_placeholder = tf.placeholder(tf.int32, shape=[None,None], name='enc_inputs')\n",
    "sequence_length_placeholder = tf.placeholder(tf.int32, shape=[None,], name='seq_lengths')\n",
    "\n",
    "\n",
    "# Correct next output sequence for next_seq decoder.\n",
    "next_seq_output_placeholder = [tf.placeholder(tf.int32, shape=[None,],\n",
    "                                              name='dec_next_seq_output{0}'.format(i)) for i in range(dr.max_len)]\n",
    "# Input for next_seq decoder.\n",
    "next_seq_input_placeholder = next_seq_output_placeholder[1:]\n",
    "\n",
    "\n",
    "# Correct previous output sequence for prev_seq decoder.\n",
    "prev_seq_output_placeholder = [tf.placeholder(tf.int32, shape=[None,],\n",
    "                                              name='dec_prev_seq_output{0}'.format(i)) for i in range(dr.max_len)]\n",
    "# Input for prev_seq decoder.\n",
    "prev_seq_input_placeholder = prev_seq_output_placeholder[1:]\n",
    "\n",
    "\n",
    "\n",
    "def fill_feed_dict(input):\n",
    "    PAD_TOKEN = dr.vocab.encode_word(dr.vocab.PAD_TOKEN)\n",
    "    feed_dict = {\n",
    "        input_placeholder: input,\n",
    "        sequence_length_placeholder: utils.padded_sequence_lengths(input, pad_value=PAD_TOKEN)\n",
    "    }\n",
    "    return feed_dict"
   ]
  },
  {
   "cell_type": "markdown",
   "metadata": {},
   "source": [
    "## Define matrix for word embeddings.\n",
    "Tensor `embedded` is used as `inputs` in encoder network."
   ]
  },
  {
   "cell_type": "code",
   "execution_count": 5,
   "metadata": {
    "collapsed": false,
    "scrolled": false
   },
   "outputs": [],
   "source": [
    "with tf.variable_scope('embeddings'):\n",
    "    # Default initializer for embeddings should have variance=1.\n",
    "    sqrt3 = math.sqrt(3)  # Uniform(-sqrt(3), sqrt(3)) has variance=1.\n",
    "    initializer = tf.random_uniform_initializer(-sqrt3, sqrt3)\n",
    "    W = tf.get_variable(\"embedding_matrix\", shape=[FLAGS.vocab_size, FLAGS.embedding_size], initializer=initializer)\n",
    "\n",
    "embedded = tf.nn.embedding_lookup(W, input_placeholder)"
   ]
  },
  {
   "cell_type": "markdown",
   "metadata": {},
   "source": [
    "## Define encoder rnn.\n",
    "Tensor `encoder_state` will be used as initial state in decoder network."
   ]
  },
  {
   "cell_type": "code",
   "execution_count": 6,
   "metadata": {
    "collapsed": false
   },
   "outputs": [],
   "source": [
    "with tf.variable_scope('encoder'):\n",
    "    cell = tf.nn.rnn_cell.GRUCell(FLAGS.num_hidden)\n",
    "    encoder_outputs, encoder_state = tf.nn.dynamic_rnn(cell,\n",
    "                                               dtype=tf.float32,\n",
    "                                               inputs=embedded,\n",
    "                                               sequence_length=sequence_length_placeholder)"
   ]
  },
  {
   "cell_type": "markdown",
   "metadata": {},
   "source": [
    "## Define two decoders. One for decoding previous sentence, and second for next sequence."
   ]
  },
  {
   "cell_type": "code",
   "execution_count": null,
   "metadata": {
    "collapsed": true
   },
   "outputs": [],
   "source": [
    "with tf.variable_scope(\"next_seq_decoder\"):\n",
    "    cell = tf.nn.rnn_cell.GRUCell(FLAGS.num_hidden)\n",
    "    Wproj = tf.get_variable('proj_W', shape=[cell.state_size])\n",
    "    cell = tf.nn.rnn_cell.OutputProjectionWrapper()\n",
    "    tf.nn.seq2seq.model_with_buckets"
   ]
  },
  {
   "cell_type": "code",
   "execution_count": 17,
   "metadata": {
    "collapsed": false
   },
   "outputs": [],
   "source": [
    "with tf.Session() as sess:\n",
    "    init = tf.initialize_all_variables()\n",
    "    sess.run(init)\n",
    "    outputs, state = sess.run([encoder_outputs, encoder_state], feed_dict=fill_feed_dict(np.array([[1,2,3,0,0,0]])))    "
   ]
  },
  {
   "cell_type": "code",
   "execution_count": null,
   "metadata": {
    "collapsed": true
   },
   "outputs": [],
   "source": []
  },
  {
   "cell_type": "code",
   "execution_count": null,
   "metadata": {
    "collapsed": true
   },
   "outputs": [],
   "source": []
  },
  {
   "cell_type": "code",
   "execution_count": null,
   "metadata": {
    "collapsed": true
   },
   "outputs": [],
   "source": []
  },
  {
   "cell_type": "code",
   "execution_count": null,
   "metadata": {
    "collapsed": true
   },
   "outputs": [],
   "source": []
  },
  {
   "cell_type": "code",
   "execution_count": null,
   "metadata": {
    "collapsed": true
   },
   "outputs": [],
   "source": []
  },
  {
   "cell_type": "code",
   "execution_count": null,
   "metadata": {
    "collapsed": true
   },
   "outputs": [],
   "source": []
  },
  {
   "cell_type": "code",
   "execution_count": null,
   "metadata": {
    "collapsed": true
   },
   "outputs": [],
   "source": []
  },
  {
   "cell_type": "code",
   "execution_count": 22,
   "metadata": {
    "collapsed": false
   },
   "outputs": [
    {
     "ename": "AttributeError",
     "evalue": "'Tensor' object has no attribute 'dequeue'",
     "output_type": "error",
     "traceback": [
      "\u001b[0;31m---------------------------------------------------------------------------\u001b[0m",
      "\u001b[0;31mAttributeError\u001b[0m                            Traceback (most recent call last)",
      "\u001b[0;32m<ipython-input-22-d19b58162194>\u001b[0m in \u001b[0;36m<module>\u001b[0;34m()\u001b[0m\n\u001b[1;32m      5\u001b[0m \u001b[0;34m\u001b[0m\u001b[0m\n\u001b[1;32m      6\u001b[0m \u001b[0mlengths_q\u001b[0m \u001b[0;34m=\u001b[0m \u001b[0mtf\u001b[0m\u001b[0;34m.\u001b[0m\u001b[0mtrain\u001b[0m\u001b[0;34m.\u001b[0m\u001b[0mslice_input_producer\u001b[0m\u001b[0;34m(\u001b[0m\u001b[0;34m[\u001b[0m\u001b[0mlengths\u001b[0m\u001b[0;34m]\u001b[0m\u001b[0;34m,\u001b[0m \u001b[0mshuffle\u001b[0m\u001b[0;34m=\u001b[0m\u001b[0;32mFalse\u001b[0m\u001b[0;34m)\u001b[0m\u001b[0;34m[\u001b[0m\u001b[0;36m0\u001b[0m\u001b[0;34m]\u001b[0m\u001b[0;34m\u001b[0m\u001b[0m\n\u001b[0;32m----> 7\u001b[0;31m \u001b[0mcurr_length\u001b[0m \u001b[0;34m=\u001b[0m \u001b[0mlengths_q\u001b[0m\u001b[0;34m.\u001b[0m\u001b[0mdequeue\u001b[0m\u001b[0;34m(\u001b[0m\u001b[0;34m)\u001b[0m\u001b[0;34m\u001b[0m\u001b[0m\n\u001b[0m\u001b[1;32m      8\u001b[0m \u001b[0;34m\u001b[0m\u001b[0m\n\u001b[1;32m      9\u001b[0m \u001b[0mdata_pl\u001b[0m \u001b[0;34m=\u001b[0m \u001b[0;34m[\u001b[0m\u001b[0mtf\u001b[0m\u001b[0;34m.\u001b[0m\u001b[0mplaceholder\u001b[0m\u001b[0;34m(\u001b[0m\u001b[0mtf\u001b[0m\u001b[0;34m.\u001b[0m\u001b[0mint32\u001b[0m\u001b[0;34m,\u001b[0m \u001b[0mshape\u001b[0m\u001b[0;34m=\u001b[0m\u001b[0;34m[\u001b[0m\u001b[0;32mNone\u001b[0m\u001b[0;34m,\u001b[0m\u001b[0;34m]\u001b[0m\u001b[0;34m,\u001b[0m \u001b[0mname\u001b[0m\u001b[0;34m=\u001b[0m\u001b[0;34m'batch'\u001b[0m\u001b[0;34m+\u001b[0m\u001b[0mstr\u001b[0m\u001b[0;34m(\u001b[0m\u001b[0mi\u001b[0m\u001b[0;34m)\u001b[0m\u001b[0;34m)\u001b[0m \u001b[0;32mfor\u001b[0m \u001b[0mi\u001b[0m \u001b[0;32min\u001b[0m \u001b[0mrange\u001b[0m\u001b[0;34m(\u001b[0m\u001b[0mlen\u001b[0m\u001b[0;34m(\u001b[0m\u001b[0mdata\u001b[0m\u001b[0;34m)\u001b[0m\u001b[0;34m)\u001b[0m\u001b[0;34m]\u001b[0m\u001b[0;34m\u001b[0m\u001b[0m\n",
      "\u001b[0;31mAttributeError\u001b[0m: 'Tensor' object has no attribute 'dequeue'"
     ]
    }
   ],
   "source": [
    "import tensorflow as tf\n",
    "\n",
    "data = [[1], [1,2,3], [5,6,7,8,9,10]]\n",
    "data_pl = [tf.placeholder(tf.int32, shape=[None,], name='batch'+str(i)) for i in range(len(data))]\n",
    "\n",
    "\n",
    "\n",
    "batched = tf.train.batch(data_pl, batch_size=1, dynamic_pad=True)"
   ]
  },
  {
   "cell_type": "code",
   "execution_count": 11,
   "metadata": {
    "collapsed": false,
    "scrolled": false
   },
   "outputs": [],
   "source": [
    "init = tf.initialize_all_variables()\n",
    "with tf.Session() as sess:\n",
    "    coord = tf.train.Coordinator()\n",
    "    threads = tf.train.start_queue_runners(coord=coord)\n",
    "    sess.run(init)\n",
    "#     RES = sess.run(batched, feed_dict={data_pl[i]: data[i] for i in range(len(data))})\n",
    "    PRODUCED = sess.run(produced, feed_dict=None)\n",
    "#     RES = sess.run(batched, feed_dict=None)\n",
    "    coord.request_stop()\n",
    "    coord.join(threads)"
   ]
  },
  {
   "cell_type": "code",
   "execution_count": 12,
   "metadata": {
    "collapsed": false
   },
   "outputs": [
    {
     "data": {
      "text/plain": [
       "[array([1], dtype=int32),\n",
       " array([1, 2, 3], dtype=int32),\n",
       " array([ 5,  6,  7,  8,  9, 10], dtype=int32)]"
      ]
     },
     "execution_count": 12,
     "metadata": {},
     "output_type": "execute_result"
    }
   ],
   "source": [
    "PRODUCED"
   ]
  },
  {
   "cell_type": "code",
   "execution_count": 7,
   "metadata": {
    "collapsed": false
   },
   "outputs": [
    {
     "data": {
      "text/plain": [
       "[array([1, 1, 1], dtype=int32),\n",
       " array([1, 1, 1], dtype=int32),\n",
       " array([5, 5, 5], dtype=int32)]"
      ]
     },
     "execution_count": 7,
     "metadata": {},
     "output_type": "execute_result"
    }
   ],
   "source": [
    "RES"
   ]
  },
  {
   "cell_type": "code",
   "execution_count": 25,
   "metadata": {
    "collapsed": false
   },
   "outputs": [
    {
     "data": {
      "text/plain": [
       "[array([[1],\n",
       "        [1],\n",
       "        [1]], dtype=int32), array([[1, 2, 3],\n",
       "        [1, 2, 3],\n",
       "        [1, 2, 3]], dtype=int32), array([[ 5,  6,  7,  8,  9, 10],\n",
       "        [ 5,  6,  7,  8,  9, 10],\n",
       "        [ 5,  6,  7,  8,  9, 10]], dtype=int32)]"
      ]
     },
     "execution_count": 25,
     "metadata": {},
     "output_type": "execute_result"
    }
   ],
   "source": [
    "res[0]['y']"
   ]
  },
  {
   "cell_type": "code",
   "execution_count": null,
   "metadata": {
    "collapsed": true
   },
   "outputs": [],
   "source": [
    "tf.train.batch()"
   ]
  }
 ],
 "metadata": {
  "anaconda-cloud": {},
  "kernelspec": {
   "display_name": "Python [venv3]",
   "language": "python",
   "name": "Python [venv3]"
  },
  "language_info": {
   "codemirror_mode": {
    "name": "ipython",
    "version": 3
   },
   "file_extension": ".py",
   "mimetype": "text/x-python",
   "name": "python",
   "nbconvert_exporter": "python",
   "pygments_lexer": "ipython3",
   "version": "3.5.2"
  }
 },
 "nbformat": 4,
 "nbformat_minor": 0
}
