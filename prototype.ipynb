{
 "cells": [
  {
   "cell_type": "markdown",
   "metadata": {},
   "source": [
    "%TODO\n",
    "* ~~add vocab_size feature to data_reader & vocab~~\n",
    "* properly handle first and last messages in dialogs (they have only one target)\n",
    "* ~~next_seq decoder~~\n",
    "* ~~prev_seq decoder~~\n",
    "* ~~loss~~\n",
    "* ~~train op~~\n",
    "* training+verbosing"
   ]
  },
  {
   "cell_type": "code",
   "execution_count": 1,
   "metadata": {
    "collapsed": true
   },
   "outputs": [],
   "source": [
    "%run data_reader.py"
   ]
  },
  {
   "cell_type": "code",
   "execution_count": 1,
   "metadata": {
    "collapsed": false
   },
   "outputs": [],
   "source": [
    "import data_reader\n",
    "import utils\n",
    "import tensorflow as tf\n",
    "import math\n",
    "import numpy as np"
   ]
  },
  {
   "cell_type": "code",
   "execution_count": 2,
   "metadata": {
    "collapsed": false
   },
   "outputs": [],
   "source": [
    "FLAGS = tf.app.flags.FLAGS\n",
    "tf.app.flags.DEFINE_integer('num_epochs', 5, \"Number of epochs.\")\n",
    "tf.app.flags.DEFINE_integer('batch_size', 64, \"The size of batch.\")\n",
    "tf.app.flags.DEFINE_integer('num_hidden', 256, 'Hidden size of GRU cell.')\n",
    "tf.app.flags.DEFINE_integer('embedding_size', 300, 'The size of word embeddings.')\n",
    "tf.app.flags.DEFINE_integer('max_vocab_size', 20000, 'Size of vocabulary. Most frequent words are used.')\n",
    "tf.app.flags.DEFINE_integer('bottleneck_size', 128, 'Size of bottleneck softmax. It avoids matrices from num_hidden to vocab_size.')\n",
    "tf.app.flags.DEFINE_float('learning_rate', 0.1, \"Initial learning rate.\")\n",
    "tf.app.flags.DEFINE_float('decay_rate', 0.98, \"Exponential decay rate.\")\n",
    "tf.app.flags.DEFINE_float('grad_clip', 5.0, \"Value for gradient clipping.\")"
   ]
  },
  {
   "cell_type": "code",
   "execution_count": 3,
   "metadata": {
    "collapsed": true
   },
   "outputs": [],
   "source": [
    "dr = data_reader.SequenceDataReader('data/chats.txt', max_vocab_size=FLAGS.max_vocab_size)\n",
    "\n",
    "origin_X = dr.get_data()\n",
    "prev_X = [[]]+dr.get_data()[:-1]\n",
    "next_X = dr.get_data()[1:]+[[]]\n",
    "\n",
    "it = utils.seq2seq_data_iterator(dr.get_data(), dr.get_data())"
   ]
  },
  {
   "cell_type": "markdown",
   "metadata": {},
   "source": [
    "## Define placeholders and function for filling feed dictionary.\n",
    "\n",
    "Because all `*_decoder` functions in `tf.nn.seq2seq` take lists as inputs, we can't do the same thing for supporting variable-length sequences as we do for encoder (`input_placeholder`).\n",
    "\n",
    "To manage this problem, we could use bucketing (`tf.nn.seq2seq.model_with_buckets`) or just calculate maximum length of line in dataset and create such number of placeholders for decoder. \n",
    "\n",
    "`SequenceDataReader` has `max_length` property for that."
   ]
  },
  {
   "cell_type": "code",
   "execution_count": 4,
   "metadata": {
    "collapsed": false
   },
   "outputs": [],
   "source": [
    "# 1. Encode <eos> token because it is needed for defining inputs for decoders.\n",
    "eos_token = dr.vocab.encode_word(dr.vocab.EOS_TOKEN)\n",
    "\n",
    "# 2. Encoder input\n",
    "input_placeholder = tf.placeholder(tf.int32, shape=[None,None], name='enc_inputs')\n",
    "sequence_length_placeholder = tf.placeholder(tf.int32, shape=[None,], name='seq_lengths')\n",
    "\n",
    "# 3. Correct next output sequence for next_seq decoder.\n",
    "next_seq_output_placeholder = [tf.placeholder(tf.int32, shape=[None,],\n",
    "                                              name='dec_next_seq_output{0}'.format(i)) for i in range(dr.max_len)]\n",
    "# 4. Input for next_seq decoder. It contains last token in inputs (which is always <eos> token) and shifted decoder outputs.\n",
    "next_seq_input_placeholder = [tf.ones_like(next_seq_output_placeholder[0])*eos_token] + next_seq_output_placeholder[1:]\n",
    "\n",
    "# 5. Correct previous output sequence for prev_seq decoder.\n",
    "prev_seq_output_placeholder = [tf.placeholder(tf.int32, shape=[None,],\n",
    "                                              name='dec_prev_seq_output{0}'.format(i)) for i in range(dr.max_len)]\n",
    "# 6. Input for prev_seq decoder.\n",
    "prev_seq_input_placeholder = [tf.ones_like(prev_seq_output_placeholder[0])*eos_token] + prev_seq_output_placeholder[1:]\n",
    "\n",
    "# 7. Seq loss weights\n",
    "prev_seq_loss_weights = [tf.placeholder(tf.float32, shape=[None,], name=\"prev_weight{0}\".format(i)) for i in range(dr.max_len)]\n",
    "next_seq_loss_weights = [tf.placeholder(tf.float32, shape=[None,], name=\"next_weight{0}\".format(i)) for i in range(dr.max_len)]\n",
    "\n",
    "def fill_feed_dict(input, prev_output, next_output):\n",
    "    PAD_TOKEN = dr.vocab.encode_word(dr.vocab.PAD_TOKEN)\n",
    "    feed_dict = {\n",
    "        input_placeholder: input,\n",
    "        sequence_length_placeholder: utils.padded_sequence_lengths(input, pad_value=PAD_TOKEN),\n",
    "    }\n",
    "    next_output = utils.pad_sequences(next_output, dr.max_len, PAD_TOKEN)\n",
    "    prev_output = utils.pad_sequences(prev_output, dr.max_len, PAD_TOKEN)\n",
    "    feed_dict.update({next_seq_output_placeholder[i]: next_output[:,i] for i in range(next_output.shape[1])})\n",
    "    feed_dict.update({prev_seq_output_placeholder[i]: prev_output[:,i] for i in range(prev_output.shape[1])})\n",
    "    \n",
    "    prev_weights = utils.get_weights_for_sequence_loss(prev_output, PAD_TOKEN)\n",
    "    feed_dict.update({prev_seq_loss_weights[i]: weights[i] for i in range(len(weights))})\n",
    "    next_weights = utils.get_weights_for_sequence_loss(next_output, PAD_TOKEN)\n",
    "    feed_dict.update({next_seq_loss_weights[i]: weights[i] for i in range(len(weights))})\n",
    "    return feed_dict"
   ]
  },
  {
   "cell_type": "markdown",
   "metadata": {},
   "source": [
    "## Define matrix for word embeddings.\n",
    "* Tensor `embedded` is used as `inputs` in encoder network."
   ]
  },
  {
   "cell_type": "code",
   "execution_count": 5,
   "metadata": {
    "collapsed": false,
    "scrolled": false
   },
   "outputs": [],
   "source": [
    "with tf.variable_scope('embeddings'):\n",
    "    # Default initializer for embeddings should have variance=1.\n",
    "    sqrt3 = math.sqrt(3)  # Uniform(-sqrt(3), sqrt(3)) has variance=1.\n",
    "    initializer = tf.random_uniform_initializer(-sqrt3, sqrt3)\n",
    "    embedding_matrix = tf.get_variable(\"embedding_matrix\", shape=[FLAGS.max_vocab_size, FLAGS.embedding_size], initializer=initializer)\n",
    "\n",
    "embedded = tf.nn.embedding_lookup(embedding_matrix, input_placeholder)"
   ]
  },
  {
   "cell_type": "markdown",
   "metadata": {},
   "source": [
    "## Define encoder rnn.\n",
    "* Tensor `encoder_state` will be used as initial state in decoder network."
   ]
  },
  {
   "cell_type": "code",
   "execution_count": 6,
   "metadata": {
    "collapsed": false
   },
   "outputs": [],
   "source": [
    "with tf.variable_scope('encoder'):\n",
    "    cell = tf.nn.rnn_cell.GRUCell(FLAGS.num_hidden)\n",
    "    _, encoder_state = tf.nn.dynamic_rnn(cell,\n",
    "                                         dtype=tf.float32,\n",
    "                                         inputs=embedded,\n",
    "                                         sequence_length=sequence_length_placeholder)"
   ]
  },
  {
   "cell_type": "markdown",
   "metadata": {},
   "source": [
    "## Define two decoders. One for decoding previous sentence, and second for next sequence.\n",
    "\n",
    "* Instead of using `OutputProjectionWrapper` we could initialize output projection explicitly and pass it to `tf.nn.seq2seq._extract_argmax_and_embed`.\n",
    "\n",
    "\n",
    "* Also, we can't use `EmbeddingWrapper` because we want to share embeddings between encoder and decoders.\n",
    "\n",
    "\n",
    "* **NOTE** that we actually create two output variables for each decoder. One for training (without feeding previous output from decoder to the next input) and the second one for predicting. So, `next/prev_seq_outputs_predict` will not be used while training the model. They are only needed for predicting sequences when model is trained."
   ]
  },
  {
   "cell_type": "markdown",
   "metadata": {},
   "source": [
    "### Define next sequence decoder."
   ]
  },
  {
   "cell_type": "code",
   "execution_count": 7,
   "metadata": {
    "collapsed": false
   },
   "outputs": [],
   "source": [
    "loop_function_train = tf.nn.seq2seq._extract_argmax_and_embed(embedding_matrix, update_embedding=True)\n",
    "loop_function_predict = tf.nn.seq2seq._extract_argmax_and_embed(embedding_matrix, update_embedding=False)\n",
    "\n",
    "with tf.variable_scope(\"next_seq_decoder\"):\n",
    "    embedded_next_seq_inputs = [tf.nn.embedding_lookup(embedding_matrix, inp) for inp in next_seq_input_placeholder]\n",
    "    \n",
    "    cell = tf.nn.rnn_cell.GRUCell(FLAGS.num_hidden)\n",
    "    cell = tf.nn.rnn_cell.OutputProjectionWrapper(cell, FLAGS.max_vocab_size)\n",
    "    \n",
    "    next_seq_outputs_train, _ = tf.nn.seq2seq.rnn_decoder(embedded_next_seq_inputs, initial_state=encoder_state,\n",
    "                                                          cell=cell, loop_function=loop_function_train)\n",
    "with tf.variable_scope(\"next_seq_decoder\", reuse=True):\n",
    "    next_seq_outputs_predict, _ = tf.nn.seq2seq.rnn_decoder(embedded_next_seq_inputs, initial_state=encoder_state,\n",
    "                                                           cell=cell, loop_function=loop_function_predict)"
   ]
  },
  {
   "cell_type": "markdown",
   "metadata": {},
   "source": [
    "### The same thing with prev sequence decoder."
   ]
  },
  {
   "cell_type": "code",
   "execution_count": 8,
   "metadata": {
    "collapsed": false
   },
   "outputs": [],
   "source": [
    "with tf.variable_scope(\"prev_seq_decoder\"):\n",
    "    embedded_prev_seq_inputs = [tf.nn.embedding_lookup(embedding_matrix, inp) for inp in prev_seq_input_placeholder]\n",
    "    \n",
    "    cell = tf.nn.rnn_cell.GRUCell(FLAGS.num_hidden)\n",
    "    cell = tf.nn.rnn_cell.OutputProjectionWrapper(cell, FLAGS.max_vocab_size)\n",
    "    \n",
    "    prev_seq_outputs_train, _ = tf.nn.seq2seq.rnn_decoder(embedded_prev_seq_inputs, initial_state=encoder_state,\n",
    "                                                          cell=cell, loop_function=loop_function_train)\n",
    "with tf.variable_scope(\"prev_seq_decoder\", reuse=True):\n",
    "    prev_seq_outputs_predict, _ = tf.nn.seq2seq.rnn_decoder(embedded_prev_seq_inputs, initial_state=encoder_state,\n",
    "                                                           cell=cell, loop_function=loop_function_predict)"
   ]
  },
  {
   "cell_type": "markdown",
   "metadata": {},
   "source": [
    "### Now, we can define loss and train_op for our network."
   ]
  },
  {
   "cell_type": "code",
   "execution_count": 9,
   "metadata": {
    "collapsed": false
   },
   "outputs": [],
   "source": [
    "loss_prev = tf.nn.seq2seq.sequence_loss(prev_seq_outputs_train,\n",
    "                                        prev_seq_output_placeholder,\n",
    "                                        prev_seq_loss_weights)\n",
    "loss_next = tf.nn.seq2seq.sequence_loss(next_seq_outputs_train,\n",
    "                                       next_seq_output_placeholder,\n",
    "                                       next_seq_loss_weights)\n",
    "\n",
    "# Final loss.\n",
    "loss = loss_prev + loss_next\n",
    "\n",
    "# Optimizer with decaying learning rate.\n",
    "global_step = tf.Variable(0, trainable=False)\n",
    "learning_rate = tf.train.exponential_decay(FLAGS.learning_rate,\n",
    "                                           global_step,\n",
    "                                           len(dr.get_data()),\n",
    "                                           FLAGS.decay_rate,\n",
    "                                           staircase=True)\n",
    "opt = tf.train.AdagradOptimizer(learning_rate)\n",
    "\n",
    "# Perform gradient clipping.\n",
    "tvars = tf.trainable_variables()\n",
    "grads = tf.gradients(loss, tvars)\n",
    "clipped_grads, norm = tf.clip_by_global_norm(tvars, FLAGS.grad_clip)\n",
    "\n",
    "train_op = opt.apply_gradients(zip(clipped_grads, tvars), global_step=global_step)"
   ]
  },
  {
   "cell_type": "markdown",
   "metadata": {},
   "source": [
    "### Let's look at the parameters in our network."
   ]
  },
  {
   "cell_type": "code",
   "execution_count": 14,
   "metadata": {
    "collapsed": false
   },
   "outputs": [
    {
     "name": "stdout",
     "output_type": "stream",
     "text": [
      "embeddings/embedding_matrix:0\n",
      "encoder/RNN/GRUCell/Gates/Linear/Matrix:0\n",
      "encoder/RNN/GRUCell/Gates/Linear/Bias:0\n",
      "encoder/RNN/GRUCell/Candidate/Linear/Matrix:0\n",
      "encoder/RNN/GRUCell/Candidate/Linear/Bias:0\n",
      "next_seq_decoder/rnn_decoder/GRUCell/Gates/Linear/Matrix:0\n",
      "next_seq_decoder/rnn_decoder/GRUCell/Gates/Linear/Bias:0\n",
      "next_seq_decoder/rnn_decoder/GRUCell/Candidate/Linear/Matrix:0\n",
      "next_seq_decoder/rnn_decoder/GRUCell/Candidate/Linear/Bias:0\n",
      "next_seq_decoder/rnn_decoder/OutputProjectionWrapper/Linear/Matrix:0\n",
      "next_seq_decoder/rnn_decoder/OutputProjectionWrapper/Linear/Bias:0\n",
      "prev_seq_decoder/rnn_decoder/GRUCell/Gates/Linear/Matrix:0\n",
      "prev_seq_decoder/rnn_decoder/GRUCell/Gates/Linear/Bias:0\n",
      "prev_seq_decoder/rnn_decoder/GRUCell/Candidate/Linear/Matrix:0\n",
      "prev_seq_decoder/rnn_decoder/GRUCell/Candidate/Linear/Bias:0\n",
      "prev_seq_decoder/rnn_decoder/OutputProjectionWrapper/Linear/Matrix:0\n",
      "prev_seq_decoder/rnn_decoder/OutputProjectionWrapper/Linear/Bias:0\n"
     ]
    }
   ],
   "source": [
    "for x in tvars:\n",
    "    print(x.name)"
   ]
  },
  {
   "cell_type": "markdown",
   "metadata": {},
   "source": [
    "### Define training procedure."
   ]
  },
  {
   "cell_type": "code",
   "execution_count": null,
   "metadata": {
    "collapsed": true
   },
   "outputs": [],
   "source": [
    "for i in range(FLAGS.num_epochs):\n",
    "    "
   ]
  },
  {
   "cell_type": "code",
   "execution_count": 17,
   "metadata": {
    "collapsed": false
   },
   "outputs": [],
   "source": [
    "with tf.Session() as sess:\n",
    "    init = tf.initialize_all_variables()\n",
    "    sess.run(init)\n",
    "    outputs, state = sess.run([encoder_outputs, encoder_state], feed_dict=fill_feed_dict(np.array([[1,2,3,0,0,0]])))    "
   ]
  },
  {
   "cell_type": "code",
   "execution_count": null,
   "metadata": {
    "collapsed": true
   },
   "outputs": [],
   "source": []
  },
  {
   "cell_type": "code",
   "execution_count": null,
   "metadata": {
    "collapsed": true
   },
   "outputs": [],
   "source": []
  },
  {
   "cell_type": "code",
   "execution_count": null,
   "metadata": {
    "collapsed": true
   },
   "outputs": [],
   "source": []
  }
 ],
 "metadata": {
  "anaconda-cloud": {},
  "kernelspec": {
   "display_name": "Python [venv3]",
   "language": "python",
   "name": "Python [venv3]"
  },
  "language_info": {
   "codemirror_mode": {
    "name": "ipython",
    "version": 3
   },
   "file_extension": ".py",
   "mimetype": "text/x-python",
   "name": "python",
   "nbconvert_exporter": "python",
   "pygments_lexer": "ipython3",
   "version": "3.5.2"
  }
 },
 "nbformat": 4,
 "nbformat_minor": 0
}
