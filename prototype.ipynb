{
 "cells": [
  {
   "cell_type": "markdown",
   "metadata": {},
   "source": [
    "%TODO\n",
    "* ~~add vocab_size feature to data_reader & vocab~~\n",
    "* ~~properly handle first and last messages in dialogs (they have only one target)~~\n",
    "* ~~next_seq decoder~~\n",
    "* ~~prev_seq decoder~~\n",
    "* ~~loss~~\n",
    "* ~~train op~~\n",
    "* ~~training+verbosing~~\n",
    "* many layers option\n",
    "* bidirectional option\n",
    "* saving/restoring model"
   ]
  },
  {
   "cell_type": "code",
   "execution_count": 1,
   "metadata": {
    "collapsed": false
   },
   "outputs": [],
   "source": [
    "import data_reader\n",
    "import utils\n",
    "import tensorflow as tf\n",
    "import math\n",
    "import numpy as np\n",
    "import time"
   ]
  },
  {
   "cell_type": "markdown",
   "metadata": {},
   "source": [
    "## Define tensorflow FLAGS."
   ]
  },
  {
   "cell_type": "code",
   "execution_count": 2,
   "metadata": {
    "collapsed": false
   },
   "outputs": [],
   "source": [
    "FLAGS = tf.app.flags.FLAGS\n",
    "tf.app.flags.DEFINE_integer('num_epochs', 100, \"Number of epochs.\")\n",
    "tf.app.flags.DEFINE_integer('batch_size', 64, \"The size of batch.\")\n",
    "tf.app.flags.DEFINE_integer('num_hidden', 512, 'Hidden size of GRU cell.')\n",
    "tf.app.flags.DEFINE_integer('embedding_size', 128, 'The size of word embeddings.')\n",
    "tf.app.flags.DEFINE_integer('max_vocab_size', 30, 'Size of vocabulary. Most frequent words are used.')\n",
    "tf.app.flags.DEFINE_integer('bottleneck_size', 128, 'Size of bottleneck softmax. It avoids matrices from num_hidden to vocab_size.')\n",
    "tf.app.flags.DEFINE_float('learning_rate', 0.02, \"Initial learning rate.\")\n",
    "tf.app.flags.DEFINE_float('decay_rate', 1.0, \"Exponential decay rate.\")\n",
    "tf.app.flags.DEFINE_float('grad_clip', 1500.0, \"Value for gradient clipping.\")"
   ]
  },
  {
   "cell_type": "markdown",
   "metadata": {},
   "source": [
    "## Data processing. \n",
    "We read sequence data and generate `(prev, curr, next)` triples with sentences. They will be batched and passed to network."
   ]
  },
  {
   "cell_type": "code",
   "execution_count": 3,
   "metadata": {
    "collapsed": false
   },
   "outputs": [],
   "source": [
    "dr = data_reader.SequenceDataReader('data/chats1000.txt', max_vocab_size=FLAGS.max_vocab_size)\n",
    "\n",
    "# PAD_TOKEN_IDX = dr.vocab.encode_word(dr.vocab.PAD_TOKEN)\n",
    "# EOS_TOKEN_IDX = dr.vocab.encode_word(dr.vocab.EOS_TOKEN)\n",
    "# MAX_LENGTH = dr.max_len\n",
    "PAD_TOKEN_IDX = 0\n",
    "EOS_TOKEN_IDX = 1\n",
    "MAX_LENGTH = 10"
   ]
  },
  {
   "cell_type": "code",
   "execution_count": 4,
   "metadata": {
    "collapsed": true
   },
   "outputs": [],
   "source": [
    "def get_curr_prev_next_triples(origin_X):\n",
    "    line_lengths = map(len, origin_X)\n",
    "    empty_line_indices = list(map(lambda x: x[0], filter(lambda x: x[1] <= 1, enumerate(line_lengths))))\n",
    "    empty_line_indices = [-1]+empty_line_indices+[len(origin_X)]\n",
    "    triples = [] # (curr, prev, next)\n",
    "    for i in range(1, len(empty_line_indices)-1):\n",
    "        from_idx = empty_line_indices[i-1]+1\n",
    "        to_idx = empty_line_indices[i]\n",
    "        for k in range(from_idx+1, to_idx-1):\n",
    "            triples.append((origin_X[k], origin_X[k-1], origin_X[k+1]))\n",
    "    return list(zip(*triples)) # three lists with equal lengths, corresponding to curr, prev and next sentences."
   ]
  },
  {
   "cell_type": "markdown",
   "metadata": {},
   "source": [
    "## Define placeholders and function for filling feed dictionary.\n",
    "\n",
    "Because all `*_decoder` functions in `tf.nn.seq2seq` take lists as inputs, we can't do the same thing for supporting variable-length sequences as we do for encoder (`input_placeholder`).\n",
    "\n",
    "To manage this problem, we could use bucketing (`tf.nn.seq2seq.model_with_buckets`) or just calculate maximum length of line in dataset and create such number of placeholders for decoder. \n",
    "\n",
    "`SequenceDataReader` has `max_length` property for that."
   ]
  },
  {
   "cell_type": "code",
   "execution_count": 5,
   "metadata": {
    "collapsed": false
   },
   "outputs": [],
   "source": [
    "# 2. Encoder input\n",
    "input_placeholder = tf.placeholder(tf.int32, shape=[None,None], name='enc_inputs')\n",
    "sequence_length_placeholder = tf.placeholder(tf.int32, shape=[None,], name='seq_lengths')\n",
    "\n",
    "\n",
    "# 3. Correct next output sequence for next_seq decoder.\n",
    "next_seq_output_placeholder = [tf.placeholder(tf.int32, shape=[None,],\n",
    "                                              name='dec_next_seq_output{0}'.format(i)) for i in range(MAX_LENGTH)]\n",
    "\n",
    "\n",
    "# 4. Input for next_seq decoder. It contains last token in inputs (which is always <eos> token) and shifted decoder outputs.\n",
    "next_seq_input_placeholder = [tf.ones_like(next_seq_output_placeholder[0])*EOS_TOKEN_IDX] + next_seq_output_placeholder[1:]\n",
    "\n",
    "\n",
    "\n",
    "# 5. Correct previous output sequence for prev_seq decoder.\n",
    "prev_seq_output_placeholder = [tf.placeholder(tf.int32, shape=[None,],\n",
    "                                              name='dec_prev_seq_output{0}'.format(i)) for i in range(MAX_LENGTH)]\n",
    "\n",
    "\n",
    "# 6. Input for prev_seq decoder.\n",
    "prev_seq_input_placeholder = [tf.ones_like(prev_seq_output_placeholder[0])*EOS_TOKEN_IDX] + prev_seq_output_placeholder[1:]\n",
    "\n",
    "\n",
    "\n",
    "# 7. Seq loss weights\n",
    "prev_seq_loss_weights = [tf.placeholder(tf.float32, shape=[None,], name=\"prev_weight{0}\".format(i)) for i in range(MAX_LENGTH)]\n",
    "next_seq_loss_weights = [tf.placeholder(tf.float32, shape=[None,], name=\"next_weight{0}\".format(i)) for i in range(MAX_LENGTH)]\n",
    "\n",
    "def fill_feed_dict(curr_input, prev_output, next_output):\n",
    "    feed_dict = {\n",
    "        input_placeholder: curr_input,\n",
    "        sequence_length_placeholder: utils.padded_sequence_lengths(curr_input, pad_value=PAD_TOKEN_IDX),\n",
    "    }\n",
    "    feed_dict.update({next_seq_output_placeholder[i]: next_output[:,i] for i in range(next_output.shape[1])})\n",
    "    feed_dict.update({prev_seq_output_placeholder[i]: prev_output[:,i] for i in range(prev_output.shape[1])})\n",
    "    \n",
    "    prev_weights = utils.get_weights_for_sequence_loss(prev_output, PAD_TOKEN_IDX)\n",
    "    next_weights = utils.get_weights_for_sequence_loss(next_output, PAD_TOKEN_IDX)\n",
    "    feed_dict.update({prev_seq_loss_weights[i]: prev_weights[i] for i in range(len(prev_weights))})\n",
    "    feed_dict.update({next_seq_loss_weights[i]: next_weights[i] for i in range(len(next_weights))})\n",
    "    return feed_dict"
   ]
  },
  {
   "cell_type": "markdown",
   "metadata": {},
   "source": [
    "## Define matrix for word embeddings.\n",
    "* Tensor `embedded` is used as `inputs` in encoder network."
   ]
  },
  {
   "cell_type": "code",
   "execution_count": 6,
   "metadata": {
    "collapsed": false,
    "scrolled": false
   },
   "outputs": [],
   "source": [
    "with tf.variable_scope('embeddings'):\n",
    "    # Default initializer for embeddings should have variance=1.\n",
    "    sqrt3 = math.sqrt(3)  # Uniform(-sqrt(3), sqrt(3)) has variance=1.\n",
    "    initializer = tf.random_uniform_initializer(-sqrt3, sqrt3)\n",
    "    embedding_matrix = tf.get_variable(\"embedding_matrix\", shape=[FLAGS.max_vocab_size, FLAGS.embedding_size], initializer=initializer)\n",
    "\n",
    "embedded = tf.nn.embedding_lookup(embedding_matrix, input_placeholder)"
   ]
  },
  {
   "cell_type": "markdown",
   "metadata": {},
   "source": [
    "## Define encoder rnn.\n",
    "* Tensor `encoder_state` will be used as initial state in decoder network."
   ]
  },
  {
   "cell_type": "code",
   "execution_count": 7,
   "metadata": {
    "collapsed": false
   },
   "outputs": [],
   "source": [
    "with tf.variable_scope('encoder'):\n",
    "    cell = tf.nn.rnn_cell.GRUCell(FLAGS.num_hidden)\n",
    "    _, encoder_state = tf.nn.dynamic_rnn(cell,\n",
    "                                         dtype=tf.float32,\n",
    "                                         inputs=embedded,\n",
    "                                         sequence_length=sequence_length_placeholder)"
   ]
  },
  {
   "cell_type": "markdown",
   "metadata": {},
   "source": [
    "## Define two decoders. One for decoding previous sentence, and second for next sequence.\n",
    "\n",
    "* Instead of using `OutputProjectionWrapper` we could initialize output projection explicitly and pass it to `tf.nn.seq2seq._extract_argmax_and_embed`.\n",
    "\n",
    "\n",
    "* Also, we can't use `EmbeddingWrapper` because we want to share embeddings between encoder and decoders.\n",
    "\n",
    "\n",
    "* **NOTE** that we actually create two output variables for each decoder. One for training (without feeding previous output from decoder to the next input) and the second one for predicting. So, `next/prev_seq_outputs_predict` will not be used while training the model. They are only needed for predicting sequences when model is trained."
   ]
  },
  {
   "cell_type": "markdown",
   "metadata": {},
   "source": [
    "### Define next sequence decoder."
   ]
  },
  {
   "cell_type": "code",
   "execution_count": 8,
   "metadata": {
    "collapsed": false
   },
   "outputs": [],
   "source": [
    "loop_function_train = tf.nn.seq2seq._extract_argmax_and_embed(embedding_matrix, update_embedding=True)\n",
    "# loop_function_predict = tf.nn.seq2seq._extract_argmax_and_embed(embedding_matrix, update_embedding=False)\n",
    "\n",
    "with tf.variable_scope(\"next_seq_decoder\"):\n",
    "    embedded_next_seq_inputs = [tf.nn.embedding_lookup(embedding_matrix, inp) for inp in next_seq_input_placeholder]\n",
    "    \n",
    "    cell = tf.nn.rnn_cell.GRUCell(FLAGS.num_hidden)\n",
    "    cell = tf.nn.rnn_cell.OutputProjectionWrapper(cell, FLAGS.max_vocab_size)\n",
    "    \n",
    "    next_seq_outputs_train, _ = tf.nn.seq2seq.rnn_decoder(embedded_next_seq_inputs, initial_state=encoder_state,\n",
    "                                                          cell=cell, loop_function=loop_function_train)\n",
    "# with tf.variable_scope(\"next_seq_decoder\", reuse=True):\n",
    "#     next_seq_outputs_predict, _ = tf.nn.seq2seq.rnn_decoder(embedded_next_seq_inputs, initial_state=encoder_state,\n",
    "#                                                            cell=cell, loop_function=loop_function_predict)"
   ]
  },
  {
   "cell_type": "markdown",
   "metadata": {},
   "source": [
    "### The same thing with prev sequence decoder."
   ]
  },
  {
   "cell_type": "code",
   "execution_count": 9,
   "metadata": {
    "collapsed": false
   },
   "outputs": [],
   "source": [
    "with tf.variable_scope(\"prev_seq_decoder\"):\n",
    "    embedded_prev_seq_inputs = [tf.nn.embedding_lookup(embedding_matrix, inp) for inp in prev_seq_input_placeholder]\n",
    "    \n",
    "    cell = tf.nn.rnn_cell.GRUCell(FLAGS.num_hidden)\n",
    "    cell = tf.nn.rnn_cell.OutputProjectionWrapper(cell, FLAGS.max_vocab_size)\n",
    "    \n",
    "    prev_seq_outputs_train, _ = tf.nn.seq2seq.rnn_decoder(embedded_prev_seq_inputs, initial_state=encoder_state,\n",
    "                                                          cell=cell, loop_function=loop_function_train)\n",
    "# with tf.variable_scope(\"prev_seq_decoder\", reuse=True):\n",
    "#     prev_seq_outputs_predict, _ = tf.nn.seq2seq.rnn_decoder(embedded_prev_seq_inputs, initial_state=encoder_state,\n",
    "#                                                            cell=cell, loop_function=loop_function_predict)"
   ]
  },
  {
   "cell_type": "markdown",
   "metadata": {},
   "source": [
    "### Now, we can define loss and train_op for our network."
   ]
  },
  {
   "cell_type": "code",
   "execution_count": 10,
   "metadata": {
    "collapsed": false
   },
   "outputs": [],
   "source": [
    "loss_prev = tf.nn.seq2seq.sequence_loss(prev_seq_outputs_train,\n",
    "                                        prev_seq_output_placeholder,\n",
    "                                        prev_seq_loss_weights)\n",
    "loss_next = tf.nn.seq2seq.sequence_loss(next_seq_outputs_train,\n",
    "                                        next_seq_output_placeholder,\n",
    "                                        next_seq_loss_weights)\n",
    "\n",
    "# Final loss.\n",
    "loss = loss_prev + loss_next\n",
    "\n",
    "# Optimizer with decaying learning rate.\n",
    "global_step = tf.Variable(0, trainable=False)\n",
    "learning_rate = tf.train.exponential_decay(FLAGS.learning_rate,\n",
    "                                           global_step,\n",
    "                                           len(dr.get_data()),\n",
    "                                           FLAGS.decay_rate,\n",
    "                                           staircase=True)\n",
    "opt = tf.train.RMSPropOptimizer(learning_rate)\n",
    "\n",
    "# Perform gradient clipping.\n",
    "tvars = tf.trainable_variables()\n",
    "grads = tf.gradients(loss, tvars)\n",
    "clipped_grads, norm = tf.clip_by_global_norm(tvars, FLAGS.grad_clip)\n",
    "\n",
    "train_op = opt.apply_gradients(zip(clipped_grads, tvars), global_step=global_step)"
   ]
  },
  {
   "cell_type": "markdown",
   "metadata": {},
   "source": [
    "### Let's look at the parameters in our network."
   ]
  },
  {
   "cell_type": "code",
   "execution_count": 11,
   "metadata": {
    "collapsed": false
   },
   "outputs": [
    {
     "name": "stdout",
     "output_type": "stream",
     "text": [
      "embeddings/embedding_matrix:0\n",
      "encoder/RNN/GRUCell/Gates/Linear/Matrix:0\n",
      "encoder/RNN/GRUCell/Gates/Linear/Bias:0\n",
      "encoder/RNN/GRUCell/Candidate/Linear/Matrix:0\n",
      "encoder/RNN/GRUCell/Candidate/Linear/Bias:0\n",
      "next_seq_decoder/rnn_decoder/GRUCell/Gates/Linear/Matrix:0\n",
      "next_seq_decoder/rnn_decoder/GRUCell/Gates/Linear/Bias:0\n",
      "next_seq_decoder/rnn_decoder/GRUCell/Candidate/Linear/Matrix:0\n",
      "next_seq_decoder/rnn_decoder/GRUCell/Candidate/Linear/Bias:0\n",
      "next_seq_decoder/rnn_decoder/OutputProjectionWrapper/Linear/Matrix:0\n",
      "next_seq_decoder/rnn_decoder/OutputProjectionWrapper/Linear/Bias:0\n",
      "prev_seq_decoder/rnn_decoder/GRUCell/Gates/Linear/Matrix:0\n",
      "prev_seq_decoder/rnn_decoder/GRUCell/Gates/Linear/Bias:0\n",
      "prev_seq_decoder/rnn_decoder/GRUCell/Candidate/Linear/Matrix:0\n",
      "prev_seq_decoder/rnn_decoder/GRUCell/Candidate/Linear/Bias:0\n",
      "prev_seq_decoder/rnn_decoder/OutputProjectionWrapper/Linear/Matrix:0\n",
      "prev_seq_decoder/rnn_decoder/OutputProjectionWrapper/Linear/Bias:0\n"
     ]
    }
   ],
   "source": [
    "for x in tvars:\n",
    "    print(x.name)"
   ]
  },
  {
   "cell_type": "markdown",
   "metadata": {},
   "source": [
    "### Define training procedure."
   ]
  },
  {
   "cell_type": "code",
   "execution_count": 12,
   "metadata": {
    "collapsed": false
   },
   "outputs": [
    {
     "data": {
      "text/plain": [
       "(1, 0)"
      ]
     },
     "execution_count": 12,
     "metadata": {},
     "output_type": "execute_result"
    }
   ],
   "source": [
    "EOS_TOKEN_IDX, PAD_TOKEN_IDX"
   ]
  },
  {
   "cell_type": "code",
   "execution_count": 13,
   "metadata": {
    "collapsed": false
   },
   "outputs": [],
   "source": [
    "norms = []\n",
    "bbb = None\n",
    "fff = {}\n",
    "ppp = None\n",
    "nnn = None\n",
    "def train(sess, verbose=1000):\n",
    "#     curr_data, prev_data, next_data = get_curr_prev_next_triples(dr.get_data())\n",
    "    curr_data = [list(np.random.randint(3, 20, size=10))+[EOS_TOKEN_IDX]]*1000\n",
    "    prev_data = [x[:-1:2]+[EOS_TOKEN_IDX] for x in curr_data]\n",
    "    next_data = [x[1:-1:2]+[EOS_TOKEN_IDX] for x in curr_data]\n",
    "    for e in range(FLAGS.num_epochs):\n",
    "        it = utils.seq2seq_triples_data_iterator(curr_data, prev_data, next_data, 10,\n",
    "                                                 batch_size=FLAGS.batch_size, shuffle=True, pad_value=PAD_TOKEN_IDX)\n",
    "        num_batches = int(np.ceil(len(curr_data)) / float(FLAGS.batch_size))\n",
    "        for b, (curr_batch, prev_batch, next_batch) in enumerate(it):\n",
    "            global bbb, fff, ppp, nnn\n",
    "            bbb = (curr_batch, prev_batch, next_batch)\n",
    "            start_time = time.time()\n",
    "            feed_dict = fill_feed_dict(curr_batch, prev_batch, next_batch)\n",
    "            fff = feed_dict\n",
    "            batch_loss, grad_norm, prev_pred, next_pred, _ = sess.run([loss, norm,\n",
    "                                                                       prev_seq_outputs_train,\n",
    "                                                                       next_seq_outputs_train,\n",
    "                                                                       train_op], feed_dict=feed_dict)\n",
    "            ppp = prev_pred\n",
    "            nnn = next_pred\n",
    "            norms.append(grad_norm)\n",
    "            batch_perplexity = math.exp(float(batch_loss)) if batch_loss < 300 else float(\"inf\")\n",
    "            end_time = time.time()\n",
    "            if b % verbose == 0:\n",
    "                    print(\n",
    "                        \"{}/{} (epoch {}), train_loss = {:.3f}, perplexity = {:.3f}, time/batch = {:.3f}\" \\\n",
    "                        .format(e * num_batches + b,\n",
    "                                FLAGS.num_epochs * num_batches,\n",
    "                                e, batch_loss, batch_perplexity, end_time - start_time))"
   ]
  },
  {
   "cell_type": "code",
   "execution_count": 14,
   "metadata": {
    "collapsed": false,
    "scrolled": true
   },
   "outputs": [
    {
     "name": "stdout",
     "output_type": "stream",
     "text": [
      "0/1500 (epoch 0), train_loss = 6.995, perplexity = 1091.262, time/batch = 0.218\n",
      "10/1500 (epoch 0), train_loss = 6.882, perplexity = 974.943, time/batch = 0.194\n",
      "15/1500 (epoch 1), train_loss = 6.846, perplexity = 939.839, time/batch = 0.177\n",
      "25/1500 (epoch 1), train_loss = 6.815, perplexity = 911.268, time/batch = 0.191\n",
      "30/1500 (epoch 2), train_loss = 6.805, perplexity = 902.771, time/batch = 0.173\n",
      "40/1500 (epoch 2), train_loss = 6.802, perplexity = 900.080, time/batch = 0.241\n",
      "45/1500 (epoch 3), train_loss = 6.802, perplexity = 900.004, time/batch = 0.178\n",
      "55/1500 (epoch 3), train_loss = 6.802, perplexity = 900.001, time/batch = 0.169\n",
      "60/1500 (epoch 4), train_loss = 6.802, perplexity = 900.001, time/batch = 0.186\n",
      "70/1500 (epoch 4), train_loss = 6.802, perplexity = 900.001, time/batch = 0.216\n",
      "75/1500 (epoch 5), train_loss = 6.802, perplexity = 900.001, time/batch = 0.180\n",
      "85/1500 (epoch 5), train_loss = 6.802, perplexity = 900.001, time/batch = 0.170\n",
      "90/1500 (epoch 6), train_loss = 6.802, perplexity = 900.001, time/batch = 0.254\n",
      "100/1500 (epoch 6), train_loss = 6.802, perplexity = 900.001, time/batch = 0.224\n"
     ]
    },
    {
     "ename": "KeyboardInterrupt",
     "evalue": "",
     "output_type": "error",
     "traceback": [
      "\u001b[0;31m---------------------------------------------------------------------------\u001b[0m",
      "\u001b[0;31mKeyboardInterrupt\u001b[0m                         Traceback (most recent call last)",
      "\u001b[0;32m<ipython-input-14-2b7f7730393e>\u001b[0m in \u001b[0;36m<module>\u001b[0;34m()\u001b[0m\n\u001b[1;32m      2\u001b[0m     \u001b[0minit\u001b[0m \u001b[0;34m=\u001b[0m \u001b[0mtf\u001b[0m\u001b[0;34m.\u001b[0m\u001b[0minitialize_all_variables\u001b[0m\u001b[0;34m(\u001b[0m\u001b[0;34m)\u001b[0m\u001b[0;34m\u001b[0m\u001b[0m\n\u001b[1;32m      3\u001b[0m     \u001b[0msess\u001b[0m\u001b[0;34m.\u001b[0m\u001b[0mrun\u001b[0m\u001b[0;34m(\u001b[0m\u001b[0minit\u001b[0m\u001b[0;34m)\u001b[0m\u001b[0;34m\u001b[0m\u001b[0m\n\u001b[0;32m----> 4\u001b[0;31m     \u001b[0mtrain\u001b[0m\u001b[0;34m(\u001b[0m\u001b[0msess\u001b[0m\u001b[0;34m,\u001b[0m \u001b[0mverbose\u001b[0m\u001b[0;34m=\u001b[0m\u001b[0;36m10\u001b[0m\u001b[0;34m)\u001b[0m\u001b[0;34m\u001b[0m\u001b[0m\n\u001b[0m",
      "\u001b[0;32m<ipython-input-13-f7592042fc8b>\u001b[0m in \u001b[0;36mtrain\u001b[0;34m(sess, verbose)\u001b[0m\n\u001b[1;32m     22\u001b[0m                                                                        \u001b[0mprev_seq_outputs_train\u001b[0m\u001b[0;34m,\u001b[0m\u001b[0;34m\u001b[0m\u001b[0m\n\u001b[1;32m     23\u001b[0m                                                                        \u001b[0mnext_seq_outputs_train\u001b[0m\u001b[0;34m,\u001b[0m\u001b[0;34m\u001b[0m\u001b[0m\n\u001b[0;32m---> 24\u001b[0;31m                                                                        train_op], feed_dict=feed_dict)\n\u001b[0m\u001b[1;32m     25\u001b[0m             \u001b[0mppp\u001b[0m \u001b[0;34m=\u001b[0m \u001b[0mprev_pred\u001b[0m\u001b[0;34m\u001b[0m\u001b[0m\n\u001b[1;32m     26\u001b[0m             \u001b[0mnnn\u001b[0m \u001b[0;34m=\u001b[0m \u001b[0mnext_pred\u001b[0m\u001b[0;34m\u001b[0m\u001b[0m\n",
      "\u001b[0;32m/Users/dmitry/me/anaconda/envs/venv3/lib/python3.5/site-packages/tensorflow/python/client/session.py\u001b[0m in \u001b[0;36mrun\u001b[0;34m(self, fetches, feed_dict, options, run_metadata)\u001b[0m\n\u001b[1;32m    708\u001b[0m     \u001b[0;32mtry\u001b[0m\u001b[0;34m:\u001b[0m\u001b[0;34m\u001b[0m\u001b[0m\n\u001b[1;32m    709\u001b[0m       result = self._run(None, fetches, feed_dict, options_ptr,\n\u001b[0;32m--> 710\u001b[0;31m                          run_metadata_ptr)\n\u001b[0m\u001b[1;32m    711\u001b[0m       \u001b[0;32mif\u001b[0m \u001b[0mrun_metadata\u001b[0m\u001b[0;34m:\u001b[0m\u001b[0;34m\u001b[0m\u001b[0m\n\u001b[1;32m    712\u001b[0m         \u001b[0mproto_data\u001b[0m \u001b[0;34m=\u001b[0m \u001b[0mtf_session\u001b[0m\u001b[0;34m.\u001b[0m\u001b[0mTF_GetBuffer\u001b[0m\u001b[0;34m(\u001b[0m\u001b[0mrun_metadata_ptr\u001b[0m\u001b[0;34m)\u001b[0m\u001b[0;34m\u001b[0m\u001b[0m\n",
      "\u001b[0;32m/Users/dmitry/me/anaconda/envs/venv3/lib/python3.5/site-packages/tensorflow/python/client/session.py\u001b[0m in \u001b[0;36m_run\u001b[0;34m(self, handle, fetches, feed_dict, options, run_metadata)\u001b[0m\n\u001b[1;32m    906\u001b[0m     \u001b[0;32mif\u001b[0m \u001b[0mfinal_fetches\u001b[0m \u001b[0;32mor\u001b[0m \u001b[0mfinal_targets\u001b[0m\u001b[0;34m:\u001b[0m\u001b[0;34m\u001b[0m\u001b[0m\n\u001b[1;32m    907\u001b[0m       results = self._do_run(handle, final_targets, final_fetches,\n\u001b[0;32m--> 908\u001b[0;31m                              feed_dict_string, options, run_metadata)\n\u001b[0m\u001b[1;32m    909\u001b[0m     \u001b[0;32melse\u001b[0m\u001b[0;34m:\u001b[0m\u001b[0;34m\u001b[0m\u001b[0m\n\u001b[1;32m    910\u001b[0m       \u001b[0mresults\u001b[0m \u001b[0;34m=\u001b[0m \u001b[0;34m[\u001b[0m\u001b[0;34m]\u001b[0m\u001b[0;34m\u001b[0m\u001b[0m\n",
      "\u001b[0;32m/Users/dmitry/me/anaconda/envs/venv3/lib/python3.5/site-packages/tensorflow/python/client/session.py\u001b[0m in \u001b[0;36m_do_run\u001b[0;34m(self, handle, target_list, fetch_list, feed_dict, options, run_metadata)\u001b[0m\n\u001b[1;32m    956\u001b[0m     \u001b[0;32mif\u001b[0m \u001b[0mhandle\u001b[0m \u001b[0;32mis\u001b[0m \u001b[0;32mNone\u001b[0m\u001b[0;34m:\u001b[0m\u001b[0;34m\u001b[0m\u001b[0m\n\u001b[1;32m    957\u001b[0m       return self._do_call(_run_fn, self._session, feed_dict, fetch_list,\n\u001b[0;32m--> 958\u001b[0;31m                            target_list, options, run_metadata)\n\u001b[0m\u001b[1;32m    959\u001b[0m     \u001b[0;32melse\u001b[0m\u001b[0;34m:\u001b[0m\u001b[0;34m\u001b[0m\u001b[0m\n\u001b[1;32m    960\u001b[0m       return self._do_call(_prun_fn, self._session, handle, feed_dict,\n",
      "\u001b[0;32m/Users/dmitry/me/anaconda/envs/venv3/lib/python3.5/site-packages/tensorflow/python/client/session.py\u001b[0m in \u001b[0;36m_do_call\u001b[0;34m(self, fn, *args)\u001b[0m\n\u001b[1;32m    963\u001b[0m   \u001b[0;32mdef\u001b[0m \u001b[0m_do_call\u001b[0m\u001b[0;34m(\u001b[0m\u001b[0mself\u001b[0m\u001b[0;34m,\u001b[0m \u001b[0mfn\u001b[0m\u001b[0;34m,\u001b[0m \u001b[0;34m*\u001b[0m\u001b[0margs\u001b[0m\u001b[0;34m)\u001b[0m\u001b[0;34m:\u001b[0m\u001b[0;34m\u001b[0m\u001b[0m\n\u001b[1;32m    964\u001b[0m     \u001b[0;32mtry\u001b[0m\u001b[0;34m:\u001b[0m\u001b[0;34m\u001b[0m\u001b[0m\n\u001b[0;32m--> 965\u001b[0;31m       \u001b[0;32mreturn\u001b[0m \u001b[0mfn\u001b[0m\u001b[0;34m(\u001b[0m\u001b[0;34m*\u001b[0m\u001b[0margs\u001b[0m\u001b[0;34m)\u001b[0m\u001b[0;34m\u001b[0m\u001b[0m\n\u001b[0m\u001b[1;32m    966\u001b[0m     \u001b[0;32mexcept\u001b[0m \u001b[0merrors\u001b[0m\u001b[0;34m.\u001b[0m\u001b[0mOpError\u001b[0m \u001b[0;32mas\u001b[0m \u001b[0me\u001b[0m\u001b[0;34m:\u001b[0m\u001b[0;34m\u001b[0m\u001b[0m\n\u001b[1;32m    967\u001b[0m       \u001b[0mmessage\u001b[0m \u001b[0;34m=\u001b[0m \u001b[0mcompat\u001b[0m\u001b[0;34m.\u001b[0m\u001b[0mas_text\u001b[0m\u001b[0;34m(\u001b[0m\u001b[0me\u001b[0m\u001b[0;34m.\u001b[0m\u001b[0mmessage\u001b[0m\u001b[0;34m)\u001b[0m\u001b[0;34m\u001b[0m\u001b[0m\n",
      "\u001b[0;32m/Users/dmitry/me/anaconda/envs/venv3/lib/python3.5/site-packages/tensorflow/python/client/session.py\u001b[0m in \u001b[0;36m_run_fn\u001b[0;34m(session, feed_dict, fetch_list, target_list, options, run_metadata)\u001b[0m\n\u001b[1;32m    945\u001b[0m         return tf_session.TF_Run(session, options,\n\u001b[1;32m    946\u001b[0m                                  \u001b[0mfeed_dict\u001b[0m\u001b[0;34m,\u001b[0m \u001b[0mfetch_list\u001b[0m\u001b[0;34m,\u001b[0m \u001b[0mtarget_list\u001b[0m\u001b[0;34m,\u001b[0m\u001b[0;34m\u001b[0m\u001b[0m\n\u001b[0;32m--> 947\u001b[0;31m                                  status, run_metadata)\n\u001b[0m\u001b[1;32m    948\u001b[0m \u001b[0;34m\u001b[0m\u001b[0m\n\u001b[1;32m    949\u001b[0m     \u001b[0;32mdef\u001b[0m \u001b[0m_prun_fn\u001b[0m\u001b[0;34m(\u001b[0m\u001b[0msession\u001b[0m\u001b[0;34m,\u001b[0m \u001b[0mhandle\u001b[0m\u001b[0;34m,\u001b[0m \u001b[0mfeed_dict\u001b[0m\u001b[0;34m,\u001b[0m \u001b[0mfetch_list\u001b[0m\u001b[0;34m)\u001b[0m\u001b[0;34m:\u001b[0m\u001b[0;34m\u001b[0m\u001b[0m\n",
      "\u001b[0;31mKeyboardInterrupt\u001b[0m: "
     ]
    }
   ],
   "source": [
    "with tf.Session() as sess:\n",
    "    init = tf.initialize_all_variables()\n",
    "    sess.run(init)\n",
    "    train(sess, verbose=10)"
   ]
  },
  {
   "cell_type": "code",
   "execution_count": 15,
   "metadata": {
    "collapsed": false,
    "scrolled": true
   },
   "outputs": [
    {
     "data": {
      "text/plain": [
       "array([[10, 12, 12, 17,  3,  1,  0,  0,  0,  0],\n",
       "       [10, 12, 12, 17,  3,  1,  0,  0,  0,  0],\n",
       "       [10, 12, 12, 17,  3,  1,  0,  0,  0,  0],\n",
       "       [10, 12, 12, 17,  3,  1,  0,  0,  0,  0],\n",
       "       [10, 12, 12, 17,  3,  1,  0,  0,  0,  0],\n",
       "       [10, 12, 12, 17,  3,  1,  0,  0,  0,  0],\n",
       "       [10, 12, 12, 17,  3,  1,  0,  0,  0,  0],\n",
       "       [10, 12, 12, 17,  3,  1,  0,  0,  0,  0],\n",
       "       [10, 12, 12, 17,  3,  1,  0,  0,  0,  0],\n",
       "       [10, 12, 12, 17,  3,  1,  0,  0,  0,  0],\n",
       "       [10, 12, 12, 17,  3,  1,  0,  0,  0,  0],\n",
       "       [10, 12, 12, 17,  3,  1,  0,  0,  0,  0],\n",
       "       [10, 12, 12, 17,  3,  1,  0,  0,  0,  0],\n",
       "       [10, 12, 12, 17,  3,  1,  0,  0,  0,  0],\n",
       "       [10, 12, 12, 17,  3,  1,  0,  0,  0,  0],\n",
       "       [10, 12, 12, 17,  3,  1,  0,  0,  0,  0],\n",
       "       [10, 12, 12, 17,  3,  1,  0,  0,  0,  0],\n",
       "       [10, 12, 12, 17,  3,  1,  0,  0,  0,  0],\n",
       "       [10, 12, 12, 17,  3,  1,  0,  0,  0,  0],\n",
       "       [10, 12, 12, 17,  3,  1,  0,  0,  0,  0],\n",
       "       [10, 12, 12, 17,  3,  1,  0,  0,  0,  0],\n",
       "       [10, 12, 12, 17,  3,  1,  0,  0,  0,  0],\n",
       "       [10, 12, 12, 17,  3,  1,  0,  0,  0,  0],\n",
       "       [10, 12, 12, 17,  3,  1,  0,  0,  0,  0],\n",
       "       [10, 12, 12, 17,  3,  1,  0,  0,  0,  0],\n",
       "       [10, 12, 12, 17,  3,  1,  0,  0,  0,  0],\n",
       "       [10, 12, 12, 17,  3,  1,  0,  0,  0,  0],\n",
       "       [10, 12, 12, 17,  3,  1,  0,  0,  0,  0],\n",
       "       [10, 12, 12, 17,  3,  1,  0,  0,  0,  0],\n",
       "       [10, 12, 12, 17,  3,  1,  0,  0,  0,  0],\n",
       "       [10, 12, 12, 17,  3,  1,  0,  0,  0,  0],\n",
       "       [10, 12, 12, 17,  3,  1,  0,  0,  0,  0],\n",
       "       [10, 12, 12, 17,  3,  1,  0,  0,  0,  0],\n",
       "       [10, 12, 12, 17,  3,  1,  0,  0,  0,  0],\n",
       "       [10, 12, 12, 17,  3,  1,  0,  0,  0,  0],\n",
       "       [10, 12, 12, 17,  3,  1,  0,  0,  0,  0],\n",
       "       [10, 12, 12, 17,  3,  1,  0,  0,  0,  0],\n",
       "       [10, 12, 12, 17,  3,  1,  0,  0,  0,  0],\n",
       "       [10, 12, 12, 17,  3,  1,  0,  0,  0,  0],\n",
       "       [10, 12, 12, 17,  3,  1,  0,  0,  0,  0],\n",
       "       [10, 12, 12, 17,  3,  1,  0,  0,  0,  0],\n",
       "       [10, 12, 12, 17,  3,  1,  0,  0,  0,  0],\n",
       "       [10, 12, 12, 17,  3,  1,  0,  0,  0,  0],\n",
       "       [10, 12, 12, 17,  3,  1,  0,  0,  0,  0],\n",
       "       [10, 12, 12, 17,  3,  1,  0,  0,  0,  0],\n",
       "       [10, 12, 12, 17,  3,  1,  0,  0,  0,  0],\n",
       "       [10, 12, 12, 17,  3,  1,  0,  0,  0,  0],\n",
       "       [10, 12, 12, 17,  3,  1,  0,  0,  0,  0],\n",
       "       [10, 12, 12, 17,  3,  1,  0,  0,  0,  0],\n",
       "       [10, 12, 12, 17,  3,  1,  0,  0,  0,  0],\n",
       "       [10, 12, 12, 17,  3,  1,  0,  0,  0,  0],\n",
       "       [10, 12, 12, 17,  3,  1,  0,  0,  0,  0],\n",
       "       [10, 12, 12, 17,  3,  1,  0,  0,  0,  0],\n",
       "       [10, 12, 12, 17,  3,  1,  0,  0,  0,  0],\n",
       "       [10, 12, 12, 17,  3,  1,  0,  0,  0,  0],\n",
       "       [10, 12, 12, 17,  3,  1,  0,  0,  0,  0],\n",
       "       [10, 12, 12, 17,  3,  1,  0,  0,  0,  0],\n",
       "       [10, 12, 12, 17,  3,  1,  0,  0,  0,  0],\n",
       "       [10, 12, 12, 17,  3,  1,  0,  0,  0,  0],\n",
       "       [10, 12, 12, 17,  3,  1,  0,  0,  0,  0],\n",
       "       [10, 12, 12, 17,  3,  1,  0,  0,  0,  0],\n",
       "       [10, 12, 12, 17,  3,  1,  0,  0,  0,  0],\n",
       "       [10, 12, 12, 17,  3,  1,  0,  0,  0,  0],\n",
       "       [10, 12, 12, 17,  3,  1,  0,  0,  0,  0]], dtype=int32)"
      ]
     },
     "execution_count": 15,
     "metadata": {},
     "output_type": "execute_result"
    }
   ],
   "source": [
    "bbb[1]"
   ]
  },
  {
   "cell_type": "code",
   "execution_count": 16,
   "metadata": {
    "collapsed": false,
    "scrolled": true
   },
   "outputs": [
    {
     "data": {
      "text/plain": [
       "[(<tf.Tensor 'dec_next_seq_output0:0' shape=(?,) dtype=int32>,\n",
       "  array([12, 12, 12, 12, 12, 12, 12, 12, 12, 12, 12, 12, 12, 12, 12, 12, 12,\n",
       "         12, 12, 12, 12, 12, 12, 12, 12, 12, 12, 12, 12, 12, 12, 12, 12, 12,\n",
       "         12, 12, 12, 12, 12, 12, 12, 12, 12, 12, 12, 12, 12, 12, 12, 12, 12,\n",
       "         12, 12, 12, 12, 12, 12, 12, 12, 12, 12, 12, 12, 12], dtype=int32)),\n",
       " (<tf.Tensor 'dec_next_seq_output1:0' shape=(?,) dtype=int32>,\n",
       "  array([9, 9, 9, 9, 9, 9, 9, 9, 9, 9, 9, 9, 9, 9, 9, 9, 9, 9, 9, 9, 9, 9, 9,\n",
       "         9, 9, 9, 9, 9, 9, 9, 9, 9, 9, 9, 9, 9, 9, 9, 9, 9, 9, 9, 9, 9, 9, 9,\n",
       "         9, 9, 9, 9, 9, 9, 9, 9, 9, 9, 9, 9, 9, 9, 9, 9, 9, 9], dtype=int32)),\n",
       " (<tf.Tensor 'dec_next_seq_output2:0' shape=(?,) dtype=int32>,\n",
       "  array([14, 14, 14, 14, 14, 14, 14, 14, 14, 14, 14, 14, 14, 14, 14, 14, 14,\n",
       "         14, 14, 14, 14, 14, 14, 14, 14, 14, 14, 14, 14, 14, 14, 14, 14, 14,\n",
       "         14, 14, 14, 14, 14, 14, 14, 14, 14, 14, 14, 14, 14, 14, 14, 14, 14,\n",
       "         14, 14, 14, 14, 14, 14, 14, 14, 14, 14, 14, 14, 14], dtype=int32)),\n",
       " (<tf.Tensor 'dec_next_seq_output3:0' shape=(?,) dtype=int32>,\n",
       "  array([9, 9, 9, 9, 9, 9, 9, 9, 9, 9, 9, 9, 9, 9, 9, 9, 9, 9, 9, 9, 9, 9, 9,\n",
       "         9, 9, 9, 9, 9, 9, 9, 9, 9, 9, 9, 9, 9, 9, 9, 9, 9, 9, 9, 9, 9, 9, 9,\n",
       "         9, 9, 9, 9, 9, 9, 9, 9, 9, 9, 9, 9, 9, 9, 9, 9, 9, 9], dtype=int32)),\n",
       " (<tf.Tensor 'dec_next_seq_output4:0' shape=(?,) dtype=int32>,\n",
       "  array([18, 18, 18, 18, 18, 18, 18, 18, 18, 18, 18, 18, 18, 18, 18, 18, 18,\n",
       "         18, 18, 18, 18, 18, 18, 18, 18, 18, 18, 18, 18, 18, 18, 18, 18, 18,\n",
       "         18, 18, 18, 18, 18, 18, 18, 18, 18, 18, 18, 18, 18, 18, 18, 18, 18,\n",
       "         18, 18, 18, 18, 18, 18, 18, 18, 18, 18, 18, 18, 18], dtype=int32)),\n",
       " (<tf.Tensor 'dec_next_seq_output5:0' shape=(?,) dtype=int32>,\n",
       "  array([1, 1, 1, 1, 1, 1, 1, 1, 1, 1, 1, 1, 1, 1, 1, 1, 1, 1, 1, 1, 1, 1, 1,\n",
       "         1, 1, 1, 1, 1, 1, 1, 1, 1, 1, 1, 1, 1, 1, 1, 1, 1, 1, 1, 1, 1, 1, 1,\n",
       "         1, 1, 1, 1, 1, 1, 1, 1, 1, 1, 1, 1, 1, 1, 1, 1, 1, 1], dtype=int32)),\n",
       " (<tf.Tensor 'dec_next_seq_output6:0' shape=(?,) dtype=int32>,\n",
       "  array([0, 0, 0, 0, 0, 0, 0, 0, 0, 0, 0, 0, 0, 0, 0, 0, 0, 0, 0, 0, 0, 0, 0,\n",
       "         0, 0, 0, 0, 0, 0, 0, 0, 0, 0, 0, 0, 0, 0, 0, 0, 0, 0, 0, 0, 0, 0, 0,\n",
       "         0, 0, 0, 0, 0, 0, 0, 0, 0, 0, 0, 0, 0, 0, 0, 0, 0, 0], dtype=int32)),\n",
       " (<tf.Tensor 'dec_next_seq_output7:0' shape=(?,) dtype=int32>,\n",
       "  array([0, 0, 0, 0, 0, 0, 0, 0, 0, 0, 0, 0, 0, 0, 0, 0, 0, 0, 0, 0, 0, 0, 0,\n",
       "         0, 0, 0, 0, 0, 0, 0, 0, 0, 0, 0, 0, 0, 0, 0, 0, 0, 0, 0, 0, 0, 0, 0,\n",
       "         0, 0, 0, 0, 0, 0, 0, 0, 0, 0, 0, 0, 0, 0, 0, 0, 0, 0], dtype=int32)),\n",
       " (<tf.Tensor 'dec_next_seq_output8:0' shape=(?,) dtype=int32>,\n",
       "  array([0, 0, 0, 0, 0, 0, 0, 0, 0, 0, 0, 0, 0, 0, 0, 0, 0, 0, 0, 0, 0, 0, 0,\n",
       "         0, 0, 0, 0, 0, 0, 0, 0, 0, 0, 0, 0, 0, 0, 0, 0, 0, 0, 0, 0, 0, 0, 0,\n",
       "         0, 0, 0, 0, 0, 0, 0, 0, 0, 0, 0, 0, 0, 0, 0, 0, 0, 0], dtype=int32)),\n",
       " (<tf.Tensor 'dec_next_seq_output9:0' shape=(?,) dtype=int32>,\n",
       "  array([0, 0, 0, 0, 0, 0, 0, 0, 0, 0, 0, 0, 0, 0, 0, 0, 0, 0, 0, 0, 0, 0, 0,\n",
       "         0, 0, 0, 0, 0, 0, 0, 0, 0, 0, 0, 0, 0, 0, 0, 0, 0, 0, 0, 0, 0, 0, 0,\n",
       "         0, 0, 0, 0, 0, 0, 0, 0, 0, 0, 0, 0, 0, 0, 0, 0, 0, 0], dtype=int32)),\n",
       " (<tf.Tensor 'dec_prev_seq_output0:0' shape=(?,) dtype=int32>,\n",
       "  array([10, 10, 10, 10, 10, 10, 10, 10, 10, 10, 10, 10, 10, 10, 10, 10, 10,\n",
       "         10, 10, 10, 10, 10, 10, 10, 10, 10, 10, 10, 10, 10, 10, 10, 10, 10,\n",
       "         10, 10, 10, 10, 10, 10, 10, 10, 10, 10, 10, 10, 10, 10, 10, 10, 10,\n",
       "         10, 10, 10, 10, 10, 10, 10, 10, 10, 10, 10, 10, 10], dtype=int32)),\n",
       " (<tf.Tensor 'dec_prev_seq_output1:0' shape=(?,) dtype=int32>,\n",
       "  array([12, 12, 12, 12, 12, 12, 12, 12, 12, 12, 12, 12, 12, 12, 12, 12, 12,\n",
       "         12, 12, 12, 12, 12, 12, 12, 12, 12, 12, 12, 12, 12, 12, 12, 12, 12,\n",
       "         12, 12, 12, 12, 12, 12, 12, 12, 12, 12, 12, 12, 12, 12, 12, 12, 12,\n",
       "         12, 12, 12, 12, 12, 12, 12, 12, 12, 12, 12, 12, 12], dtype=int32)),\n",
       " (<tf.Tensor 'dec_prev_seq_output2:0' shape=(?,) dtype=int32>,\n",
       "  array([12, 12, 12, 12, 12, 12, 12, 12, 12, 12, 12, 12, 12, 12, 12, 12, 12,\n",
       "         12, 12, 12, 12, 12, 12, 12, 12, 12, 12, 12, 12, 12, 12, 12, 12, 12,\n",
       "         12, 12, 12, 12, 12, 12, 12, 12, 12, 12, 12, 12, 12, 12, 12, 12, 12,\n",
       "         12, 12, 12, 12, 12, 12, 12, 12, 12, 12, 12, 12, 12], dtype=int32)),\n",
       " (<tf.Tensor 'dec_prev_seq_output3:0' shape=(?,) dtype=int32>,\n",
       "  array([17, 17, 17, 17, 17, 17, 17, 17, 17, 17, 17, 17, 17, 17, 17, 17, 17,\n",
       "         17, 17, 17, 17, 17, 17, 17, 17, 17, 17, 17, 17, 17, 17, 17, 17, 17,\n",
       "         17, 17, 17, 17, 17, 17, 17, 17, 17, 17, 17, 17, 17, 17, 17, 17, 17,\n",
       "         17, 17, 17, 17, 17, 17, 17, 17, 17, 17, 17, 17, 17], dtype=int32)),\n",
       " (<tf.Tensor 'dec_prev_seq_output4:0' shape=(?,) dtype=int32>,\n",
       "  array([3, 3, 3, 3, 3, 3, 3, 3, 3, 3, 3, 3, 3, 3, 3, 3, 3, 3, 3, 3, 3, 3, 3,\n",
       "         3, 3, 3, 3, 3, 3, 3, 3, 3, 3, 3, 3, 3, 3, 3, 3, 3, 3, 3, 3, 3, 3, 3,\n",
       "         3, 3, 3, 3, 3, 3, 3, 3, 3, 3, 3, 3, 3, 3, 3, 3, 3, 3], dtype=int32)),\n",
       " (<tf.Tensor 'dec_prev_seq_output5:0' shape=(?,) dtype=int32>,\n",
       "  array([1, 1, 1, 1, 1, 1, 1, 1, 1, 1, 1, 1, 1, 1, 1, 1, 1, 1, 1, 1, 1, 1, 1,\n",
       "         1, 1, 1, 1, 1, 1, 1, 1, 1, 1, 1, 1, 1, 1, 1, 1, 1, 1, 1, 1, 1, 1, 1,\n",
       "         1, 1, 1, 1, 1, 1, 1, 1, 1, 1, 1, 1, 1, 1, 1, 1, 1, 1], dtype=int32)),\n",
       " (<tf.Tensor 'dec_prev_seq_output6:0' shape=(?,) dtype=int32>,\n",
       "  array([0, 0, 0, 0, 0, 0, 0, 0, 0, 0, 0, 0, 0, 0, 0, 0, 0, 0, 0, 0, 0, 0, 0,\n",
       "         0, 0, 0, 0, 0, 0, 0, 0, 0, 0, 0, 0, 0, 0, 0, 0, 0, 0, 0, 0, 0, 0, 0,\n",
       "         0, 0, 0, 0, 0, 0, 0, 0, 0, 0, 0, 0, 0, 0, 0, 0, 0, 0], dtype=int32)),\n",
       " (<tf.Tensor 'dec_prev_seq_output7:0' shape=(?,) dtype=int32>,\n",
       "  array([0, 0, 0, 0, 0, 0, 0, 0, 0, 0, 0, 0, 0, 0, 0, 0, 0, 0, 0, 0, 0, 0, 0,\n",
       "         0, 0, 0, 0, 0, 0, 0, 0, 0, 0, 0, 0, 0, 0, 0, 0, 0, 0, 0, 0, 0, 0, 0,\n",
       "         0, 0, 0, 0, 0, 0, 0, 0, 0, 0, 0, 0, 0, 0, 0, 0, 0, 0], dtype=int32)),\n",
       " (<tf.Tensor 'dec_prev_seq_output8:0' shape=(?,) dtype=int32>,\n",
       "  array([0, 0, 0, 0, 0, 0, 0, 0, 0, 0, 0, 0, 0, 0, 0, 0, 0, 0, 0, 0, 0, 0, 0,\n",
       "         0, 0, 0, 0, 0, 0, 0, 0, 0, 0, 0, 0, 0, 0, 0, 0, 0, 0, 0, 0, 0, 0, 0,\n",
       "         0, 0, 0, 0, 0, 0, 0, 0, 0, 0, 0, 0, 0, 0, 0, 0, 0, 0], dtype=int32)),\n",
       " (<tf.Tensor 'dec_prev_seq_output9:0' shape=(?,) dtype=int32>,\n",
       "  array([0, 0, 0, 0, 0, 0, 0, 0, 0, 0, 0, 0, 0, 0, 0, 0, 0, 0, 0, 0, 0, 0, 0,\n",
       "         0, 0, 0, 0, 0, 0, 0, 0, 0, 0, 0, 0, 0, 0, 0, 0, 0, 0, 0, 0, 0, 0, 0,\n",
       "         0, 0, 0, 0, 0, 0, 0, 0, 0, 0, 0, 0, 0, 0, 0, 0, 0, 0], dtype=int32)),\n",
       " (<tf.Tensor 'enc_inputs:0' shape=(?, ?) dtype=int32>,\n",
       "  array([[10, 12, 12,  9, 12, 14, 17,  9,  3, 18,  1],\n",
       "         [10, 12, 12,  9, 12, 14, 17,  9,  3, 18,  1],\n",
       "         [10, 12, 12,  9, 12, 14, 17,  9,  3, 18,  1],\n",
       "         [10, 12, 12,  9, 12, 14, 17,  9,  3, 18,  1],\n",
       "         [10, 12, 12,  9, 12, 14, 17,  9,  3, 18,  1],\n",
       "         [10, 12, 12,  9, 12, 14, 17,  9,  3, 18,  1],\n",
       "         [10, 12, 12,  9, 12, 14, 17,  9,  3, 18,  1],\n",
       "         [10, 12, 12,  9, 12, 14, 17,  9,  3, 18,  1],\n",
       "         [10, 12, 12,  9, 12, 14, 17,  9,  3, 18,  1],\n",
       "         [10, 12, 12,  9, 12, 14, 17,  9,  3, 18,  1],\n",
       "         [10, 12, 12,  9, 12, 14, 17,  9,  3, 18,  1],\n",
       "         [10, 12, 12,  9, 12, 14, 17,  9,  3, 18,  1],\n",
       "         [10, 12, 12,  9, 12, 14, 17,  9,  3, 18,  1],\n",
       "         [10, 12, 12,  9, 12, 14, 17,  9,  3, 18,  1],\n",
       "         [10, 12, 12,  9, 12, 14, 17,  9,  3, 18,  1],\n",
       "         [10, 12, 12,  9, 12, 14, 17,  9,  3, 18,  1],\n",
       "         [10, 12, 12,  9, 12, 14, 17,  9,  3, 18,  1],\n",
       "         [10, 12, 12,  9, 12, 14, 17,  9,  3, 18,  1],\n",
       "         [10, 12, 12,  9, 12, 14, 17,  9,  3, 18,  1],\n",
       "         [10, 12, 12,  9, 12, 14, 17,  9,  3, 18,  1],\n",
       "         [10, 12, 12,  9, 12, 14, 17,  9,  3, 18,  1],\n",
       "         [10, 12, 12,  9, 12, 14, 17,  9,  3, 18,  1],\n",
       "         [10, 12, 12,  9, 12, 14, 17,  9,  3, 18,  1],\n",
       "         [10, 12, 12,  9, 12, 14, 17,  9,  3, 18,  1],\n",
       "         [10, 12, 12,  9, 12, 14, 17,  9,  3, 18,  1],\n",
       "         [10, 12, 12,  9, 12, 14, 17,  9,  3, 18,  1],\n",
       "         [10, 12, 12,  9, 12, 14, 17,  9,  3, 18,  1],\n",
       "         [10, 12, 12,  9, 12, 14, 17,  9,  3, 18,  1],\n",
       "         [10, 12, 12,  9, 12, 14, 17,  9,  3, 18,  1],\n",
       "         [10, 12, 12,  9, 12, 14, 17,  9,  3, 18,  1],\n",
       "         [10, 12, 12,  9, 12, 14, 17,  9,  3, 18,  1],\n",
       "         [10, 12, 12,  9, 12, 14, 17,  9,  3, 18,  1],\n",
       "         [10, 12, 12,  9, 12, 14, 17,  9,  3, 18,  1],\n",
       "         [10, 12, 12,  9, 12, 14, 17,  9,  3, 18,  1],\n",
       "         [10, 12, 12,  9, 12, 14, 17,  9,  3, 18,  1],\n",
       "         [10, 12, 12,  9, 12, 14, 17,  9,  3, 18,  1],\n",
       "         [10, 12, 12,  9, 12, 14, 17,  9,  3, 18,  1],\n",
       "         [10, 12, 12,  9, 12, 14, 17,  9,  3, 18,  1],\n",
       "         [10, 12, 12,  9, 12, 14, 17,  9,  3, 18,  1],\n",
       "         [10, 12, 12,  9, 12, 14, 17,  9,  3, 18,  1],\n",
       "         [10, 12, 12,  9, 12, 14, 17,  9,  3, 18,  1],\n",
       "         [10, 12, 12,  9, 12, 14, 17,  9,  3, 18,  1],\n",
       "         [10, 12, 12,  9, 12, 14, 17,  9,  3, 18,  1],\n",
       "         [10, 12, 12,  9, 12, 14, 17,  9,  3, 18,  1],\n",
       "         [10, 12, 12,  9, 12, 14, 17,  9,  3, 18,  1],\n",
       "         [10, 12, 12,  9, 12, 14, 17,  9,  3, 18,  1],\n",
       "         [10, 12, 12,  9, 12, 14, 17,  9,  3, 18,  1],\n",
       "         [10, 12, 12,  9, 12, 14, 17,  9,  3, 18,  1],\n",
       "         [10, 12, 12,  9, 12, 14, 17,  9,  3, 18,  1],\n",
       "         [10, 12, 12,  9, 12, 14, 17,  9,  3, 18,  1],\n",
       "         [10, 12, 12,  9, 12, 14, 17,  9,  3, 18,  1],\n",
       "         [10, 12, 12,  9, 12, 14, 17,  9,  3, 18,  1],\n",
       "         [10, 12, 12,  9, 12, 14, 17,  9,  3, 18,  1],\n",
       "         [10, 12, 12,  9, 12, 14, 17,  9,  3, 18,  1],\n",
       "         [10, 12, 12,  9, 12, 14, 17,  9,  3, 18,  1],\n",
       "         [10, 12, 12,  9, 12, 14, 17,  9,  3, 18,  1],\n",
       "         [10, 12, 12,  9, 12, 14, 17,  9,  3, 18,  1],\n",
       "         [10, 12, 12,  9, 12, 14, 17,  9,  3, 18,  1],\n",
       "         [10, 12, 12,  9, 12, 14, 17,  9,  3, 18,  1],\n",
       "         [10, 12, 12,  9, 12, 14, 17,  9,  3, 18,  1],\n",
       "         [10, 12, 12,  9, 12, 14, 17,  9,  3, 18,  1],\n",
       "         [10, 12, 12,  9, 12, 14, 17,  9,  3, 18,  1],\n",
       "         [10, 12, 12,  9, 12, 14, 17,  9,  3, 18,  1],\n",
       "         [10, 12, 12,  9, 12, 14, 17,  9,  3, 18,  1]], dtype=int32)),\n",
       " (<tf.Tensor 'next_weight0:0' shape=(?,) dtype=float32>,\n",
       "  array([ 1.,  1.,  1.,  1.,  1.,  1.,  1.,  1.,  1.,  1.,  1.,  1.,  1.,\n",
       "          1.,  1.,  1.,  1.,  1.,  1.,  1.,  1.,  1.,  1.,  1.,  1.,  1.,\n",
       "          1.,  1.,  1.,  1.,  1.,  1.,  1.,  1.,  1.,  1.,  1.,  1.,  1.,\n",
       "          1.,  1.,  1.,  1.,  1.,  1.,  1.,  1.,  1.,  1.,  1.,  1.,  1.,\n",
       "          1.,  1.,  1.,  1.,  1.,  1.,  1.,  1.,  1.,  1.,  1.,  1.], dtype=float32)),\n",
       " (<tf.Tensor 'next_weight1:0' shape=(?,) dtype=float32>,\n",
       "  array([ 1.,  1.,  1.,  1.,  1.,  1.,  1.,  1.,  1.,  1.,  1.,  1.,  1.,\n",
       "          1.,  1.,  1.,  1.,  1.,  1.,  1.,  1.,  1.,  1.,  1.,  1.,  1.,\n",
       "          1.,  1.,  1.,  1.,  1.,  1.,  1.,  1.,  1.,  1.,  1.,  1.,  1.,\n",
       "          1.,  1.,  1.,  1.,  1.,  1.,  1.,  1.,  1.,  1.,  1.,  1.,  1.,\n",
       "          1.,  1.,  1.,  1.,  1.,  1.,  1.,  1.,  1.,  1.,  1.,  1.], dtype=float32)),\n",
       " (<tf.Tensor 'next_weight2:0' shape=(?,) dtype=float32>,\n",
       "  array([ 1.,  1.,  1.,  1.,  1.,  1.,  1.,  1.,  1.,  1.,  1.,  1.,  1.,\n",
       "          1.,  1.,  1.,  1.,  1.,  1.,  1.,  1.,  1.,  1.,  1.,  1.,  1.,\n",
       "          1.,  1.,  1.,  1.,  1.,  1.,  1.,  1.,  1.,  1.,  1.,  1.,  1.,\n",
       "          1.,  1.,  1.,  1.,  1.,  1.,  1.,  1.,  1.,  1.,  1.,  1.,  1.,\n",
       "          1.,  1.,  1.,  1.,  1.,  1.,  1.,  1.,  1.,  1.,  1.,  1.], dtype=float32)),\n",
       " (<tf.Tensor 'next_weight3:0' shape=(?,) dtype=float32>,\n",
       "  array([ 1.,  1.,  1.,  1.,  1.,  1.,  1.,  1.,  1.,  1.,  1.,  1.,  1.,\n",
       "          1.,  1.,  1.,  1.,  1.,  1.,  1.,  1.,  1.,  1.,  1.,  1.,  1.,\n",
       "          1.,  1.,  1.,  1.,  1.,  1.,  1.,  1.,  1.,  1.,  1.,  1.,  1.,\n",
       "          1.,  1.,  1.,  1.,  1.,  1.,  1.,  1.,  1.,  1.,  1.,  1.,  1.,\n",
       "          1.,  1.,  1.,  1.,  1.,  1.,  1.,  1.,  1.,  1.,  1.,  1.], dtype=float32)),\n",
       " (<tf.Tensor 'next_weight4:0' shape=(?,) dtype=float32>,\n",
       "  array([ 1.,  1.,  1.,  1.,  1.,  1.,  1.,  1.,  1.,  1.,  1.,  1.,  1.,\n",
       "          1.,  1.,  1.,  1.,  1.,  1.,  1.,  1.,  1.,  1.,  1.,  1.,  1.,\n",
       "          1.,  1.,  1.,  1.,  1.,  1.,  1.,  1.,  1.,  1.,  1.,  1.,  1.,\n",
       "          1.,  1.,  1.,  1.,  1.,  1.,  1.,  1.,  1.,  1.,  1.,  1.,  1.,\n",
       "          1.,  1.,  1.,  1.,  1.,  1.,  1.,  1.,  1.,  1.,  1.,  1.], dtype=float32)),\n",
       " (<tf.Tensor 'next_weight5:0' shape=(?,) dtype=float32>,\n",
       "  array([ 1.,  1.,  1.,  1.,  1.,  1.,  1.,  1.,  1.,  1.,  1.,  1.,  1.,\n",
       "          1.,  1.,  1.,  1.,  1.,  1.,  1.,  1.,  1.,  1.,  1.,  1.,  1.,\n",
       "          1.,  1.,  1.,  1.,  1.,  1.,  1.,  1.,  1.,  1.,  1.,  1.,  1.,\n",
       "          1.,  1.,  1.,  1.,  1.,  1.,  1.,  1.,  1.,  1.,  1.,  1.,  1.,\n",
       "          1.,  1.,  1.,  1.,  1.,  1.,  1.,  1.,  1.,  1.,  1.,  1.], dtype=float32)),\n",
       " (<tf.Tensor 'next_weight6:0' shape=(?,) dtype=float32>,\n",
       "  array([ 0.,  0.,  0.,  0.,  0.,  0.,  0.,  0.,  0.,  0.,  0.,  0.,  0.,\n",
       "          0.,  0.,  0.,  0.,  0.,  0.,  0.,  0.,  0.,  0.,  0.,  0.,  0.,\n",
       "          0.,  0.,  0.,  0.,  0.,  0.,  0.,  0.,  0.,  0.,  0.,  0.,  0.,\n",
       "          0.,  0.,  0.,  0.,  0.,  0.,  0.,  0.,  0.,  0.,  0.,  0.,  0.,\n",
       "          0.,  0.,  0.,  0.,  0.,  0.,  0.,  0.,  0.,  0.,  0.,  0.], dtype=float32)),\n",
       " (<tf.Tensor 'next_weight7:0' shape=(?,) dtype=float32>,\n",
       "  array([ 0.,  0.,  0.,  0.,  0.,  0.,  0.,  0.,  0.,  0.,  0.,  0.,  0.,\n",
       "          0.,  0.,  0.,  0.,  0.,  0.,  0.,  0.,  0.,  0.,  0.,  0.,  0.,\n",
       "          0.,  0.,  0.,  0.,  0.,  0.,  0.,  0.,  0.,  0.,  0.,  0.,  0.,\n",
       "          0.,  0.,  0.,  0.,  0.,  0.,  0.,  0.,  0.,  0.,  0.,  0.,  0.,\n",
       "          0.,  0.,  0.,  0.,  0.,  0.,  0.,  0.,  0.,  0.,  0.,  0.], dtype=float32)),\n",
       " (<tf.Tensor 'next_weight8:0' shape=(?,) dtype=float32>,\n",
       "  array([ 0.,  0.,  0.,  0.,  0.,  0.,  0.,  0.,  0.,  0.,  0.,  0.,  0.,\n",
       "          0.,  0.,  0.,  0.,  0.,  0.,  0.,  0.,  0.,  0.,  0.,  0.,  0.,\n",
       "          0.,  0.,  0.,  0.,  0.,  0.,  0.,  0.,  0.,  0.,  0.,  0.,  0.,\n",
       "          0.,  0.,  0.,  0.,  0.,  0.,  0.,  0.,  0.,  0.,  0.,  0.,  0.,\n",
       "          0.,  0.,  0.,  0.,  0.,  0.,  0.,  0.,  0.,  0.,  0.,  0.], dtype=float32)),\n",
       " (<tf.Tensor 'next_weight9:0' shape=(?,) dtype=float32>,\n",
       "  array([ 0.,  0.,  0.,  0.,  0.,  0.,  0.,  0.,  0.,  0.,  0.,  0.,  0.,\n",
       "          0.,  0.,  0.,  0.,  0.,  0.,  0.,  0.,  0.,  0.,  0.,  0.,  0.,\n",
       "          0.,  0.,  0.,  0.,  0.,  0.,  0.,  0.,  0.,  0.,  0.,  0.,  0.,\n",
       "          0.,  0.,  0.,  0.,  0.,  0.,  0.,  0.,  0.,  0.,  0.,  0.,  0.,\n",
       "          0.,  0.,  0.,  0.,  0.,  0.,  0.,  0.,  0.,  0.,  0.,  0.], dtype=float32)),\n",
       " (<tf.Tensor 'prev_weight0:0' shape=(?,) dtype=float32>,\n",
       "  array([ 1.,  1.,  1.,  1.,  1.,  1.,  1.,  1.,  1.,  1.,  1.,  1.,  1.,\n",
       "          1.,  1.,  1.,  1.,  1.,  1.,  1.,  1.,  1.,  1.,  1.,  1.,  1.,\n",
       "          1.,  1.,  1.,  1.,  1.,  1.,  1.,  1.,  1.,  1.,  1.,  1.,  1.,\n",
       "          1.,  1.,  1.,  1.,  1.,  1.,  1.,  1.,  1.,  1.,  1.,  1.,  1.,\n",
       "          1.,  1.,  1.,  1.,  1.,  1.,  1.,  1.,  1.,  1.,  1.,  1.], dtype=float32)),\n",
       " (<tf.Tensor 'prev_weight1:0' shape=(?,) dtype=float32>,\n",
       "  array([ 1.,  1.,  1.,  1.,  1.,  1.,  1.,  1.,  1.,  1.,  1.,  1.,  1.,\n",
       "          1.,  1.,  1.,  1.,  1.,  1.,  1.,  1.,  1.,  1.,  1.,  1.,  1.,\n",
       "          1.,  1.,  1.,  1.,  1.,  1.,  1.,  1.,  1.,  1.,  1.,  1.,  1.,\n",
       "          1.,  1.,  1.,  1.,  1.,  1.,  1.,  1.,  1.,  1.,  1.,  1.,  1.,\n",
       "          1.,  1.,  1.,  1.,  1.,  1.,  1.,  1.,  1.,  1.,  1.,  1.], dtype=float32)),\n",
       " (<tf.Tensor 'prev_weight2:0' shape=(?,) dtype=float32>,\n",
       "  array([ 1.,  1.,  1.,  1.,  1.,  1.,  1.,  1.,  1.,  1.,  1.,  1.,  1.,\n",
       "          1.,  1.,  1.,  1.,  1.,  1.,  1.,  1.,  1.,  1.,  1.,  1.,  1.,\n",
       "          1.,  1.,  1.,  1.,  1.,  1.,  1.,  1.,  1.,  1.,  1.,  1.,  1.,\n",
       "          1.,  1.,  1.,  1.,  1.,  1.,  1.,  1.,  1.,  1.,  1.,  1.,  1.,\n",
       "          1.,  1.,  1.,  1.,  1.,  1.,  1.,  1.,  1.,  1.,  1.,  1.], dtype=float32)),\n",
       " (<tf.Tensor 'prev_weight3:0' shape=(?,) dtype=float32>,\n",
       "  array([ 1.,  1.,  1.,  1.,  1.,  1.,  1.,  1.,  1.,  1.,  1.,  1.,  1.,\n",
       "          1.,  1.,  1.,  1.,  1.,  1.,  1.,  1.,  1.,  1.,  1.,  1.,  1.,\n",
       "          1.,  1.,  1.,  1.,  1.,  1.,  1.,  1.,  1.,  1.,  1.,  1.,  1.,\n",
       "          1.,  1.,  1.,  1.,  1.,  1.,  1.,  1.,  1.,  1.,  1.,  1.,  1.,\n",
       "          1.,  1.,  1.,  1.,  1.,  1.,  1.,  1.,  1.,  1.,  1.,  1.], dtype=float32)),\n",
       " (<tf.Tensor 'prev_weight4:0' shape=(?,) dtype=float32>,\n",
       "  array([ 1.,  1.,  1.,  1.,  1.,  1.,  1.,  1.,  1.,  1.,  1.,  1.,  1.,\n",
       "          1.,  1.,  1.,  1.,  1.,  1.,  1.,  1.,  1.,  1.,  1.,  1.,  1.,\n",
       "          1.,  1.,  1.,  1.,  1.,  1.,  1.,  1.,  1.,  1.,  1.,  1.,  1.,\n",
       "          1.,  1.,  1.,  1.,  1.,  1.,  1.,  1.,  1.,  1.,  1.,  1.,  1.,\n",
       "          1.,  1.,  1.,  1.,  1.,  1.,  1.,  1.,  1.,  1.,  1.,  1.], dtype=float32)),\n",
       " (<tf.Tensor 'prev_weight5:0' shape=(?,) dtype=float32>,\n",
       "  array([ 1.,  1.,  1.,  1.,  1.,  1.,  1.,  1.,  1.,  1.,  1.,  1.,  1.,\n",
       "          1.,  1.,  1.,  1.,  1.,  1.,  1.,  1.,  1.,  1.,  1.,  1.,  1.,\n",
       "          1.,  1.,  1.,  1.,  1.,  1.,  1.,  1.,  1.,  1.,  1.,  1.,  1.,\n",
       "          1.,  1.,  1.,  1.,  1.,  1.,  1.,  1.,  1.,  1.,  1.,  1.,  1.,\n",
       "          1.,  1.,  1.,  1.,  1.,  1.,  1.,  1.,  1.,  1.,  1.,  1.], dtype=float32)),\n",
       " (<tf.Tensor 'prev_weight6:0' shape=(?,) dtype=float32>,\n",
       "  array([ 0.,  0.,  0.,  0.,  0.,  0.,  0.,  0.,  0.,  0.,  0.,  0.,  0.,\n",
       "          0.,  0.,  0.,  0.,  0.,  0.,  0.,  0.,  0.,  0.,  0.,  0.,  0.,\n",
       "          0.,  0.,  0.,  0.,  0.,  0.,  0.,  0.,  0.,  0.,  0.,  0.,  0.,\n",
       "          0.,  0.,  0.,  0.,  0.,  0.,  0.,  0.,  0.,  0.,  0.,  0.,  0.,\n",
       "          0.,  0.,  0.,  0.,  0.,  0.,  0.,  0.,  0.,  0.,  0.,  0.], dtype=float32)),\n",
       " (<tf.Tensor 'prev_weight7:0' shape=(?,) dtype=float32>,\n",
       "  array([ 0.,  0.,  0.,  0.,  0.,  0.,  0.,  0.,  0.,  0.,  0.,  0.,  0.,\n",
       "          0.,  0.,  0.,  0.,  0.,  0.,  0.,  0.,  0.,  0.,  0.,  0.,  0.,\n",
       "          0.,  0.,  0.,  0.,  0.,  0.,  0.,  0.,  0.,  0.,  0.,  0.,  0.,\n",
       "          0.,  0.,  0.,  0.,  0.,  0.,  0.,  0.,  0.,  0.,  0.,  0.,  0.,\n",
       "          0.,  0.,  0.,  0.,  0.,  0.,  0.,  0.,  0.,  0.,  0.,  0.], dtype=float32)),\n",
       " (<tf.Tensor 'prev_weight8:0' shape=(?,) dtype=float32>,\n",
       "  array([ 0.,  0.,  0.,  0.,  0.,  0.,  0.,  0.,  0.,  0.,  0.,  0.,  0.,\n",
       "          0.,  0.,  0.,  0.,  0.,  0.,  0.,  0.,  0.,  0.,  0.,  0.,  0.,\n",
       "          0.,  0.,  0.,  0.,  0.,  0.,  0.,  0.,  0.,  0.,  0.,  0.,  0.,\n",
       "          0.,  0.,  0.,  0.,  0.,  0.,  0.,  0.,  0.,  0.,  0.,  0.,  0.,\n",
       "          0.,  0.,  0.,  0.,  0.,  0.,  0.,  0.,  0.,  0.,  0.,  0.], dtype=float32)),\n",
       " (<tf.Tensor 'prev_weight9:0' shape=(?,) dtype=float32>,\n",
       "  array([ 0.,  0.,  0.,  0.,  0.,  0.,  0.,  0.,  0.,  0.,  0.,  0.,  0.,\n",
       "          0.,  0.,  0.,  0.,  0.,  0.,  0.,  0.,  0.,  0.,  0.,  0.,  0.,\n",
       "          0.,  0.,  0.,  0.,  0.,  0.,  0.,  0.,  0.,  0.,  0.,  0.,  0.,\n",
       "          0.,  0.,  0.,  0.,  0.,  0.,  0.,  0.,  0.,  0.,  0.,  0.,  0.,\n",
       "          0.,  0.,  0.,  0.,  0.,  0.,  0.,  0.,  0.,  0.,  0.,  0.], dtype=float32)),\n",
       " (<tf.Tensor 'seq_lengths:0' shape=(?,) dtype=int32>,\n",
       "  array([11, 11, 11, 11, 11, 11, 11, 11, 11, 11, 11, 11, 11, 11, 11, 11, 11,\n",
       "         11, 11, 11, 11, 11, 11, 11, 11, 11, 11, 11, 11, 11, 11, 11, 11, 11,\n",
       "         11, 11, 11, 11, 11, 11, 11, 11, 11, 11, 11, 11, 11, 11, 11, 11, 11,\n",
       "         11, 11, 11, 11, 11, 11, 11, 11, 11, 11, 11, 11, 11]))]"
      ]
     },
     "execution_count": 16,
     "metadata": {},
     "output_type": "execute_result"
    }
   ],
   "source": [
    "sorted(fff.items(), key=lambda x: x[0].name)"
   ]
  },
  {
   "cell_type": "code",
   "execution_count": 20,
   "metadata": {
    "collapsed": false,
    "scrolled": true
   },
   "outputs": [
    {
     "data": {
      "text/plain": [
       "array([[10, 12, 12, 17,  3,  1,  0,  0,  0,  0],\n",
       "       [10, 12, 12, 17,  3,  1,  0,  0,  0,  0],\n",
       "       [10, 12, 12, 17,  3,  1,  0,  0,  0,  0],\n",
       "       [10, 12, 12, 17,  3,  1,  0,  0,  0,  0],\n",
       "       [10, 12, 12, 17,  3,  1,  0,  0,  0,  0],\n",
       "       [10, 12, 12, 17,  3,  1,  0,  0,  0,  0],\n",
       "       [10, 12, 12, 17,  3,  1,  0,  0,  0,  0],\n",
       "       [10, 12, 12, 17,  3,  1,  0,  0,  0,  0],\n",
       "       [10, 12, 12, 17,  3,  1,  0,  0,  0,  0],\n",
       "       [10, 12, 12, 17,  3,  1,  0,  0,  0,  0],\n",
       "       [10, 12, 12, 17,  3,  1,  0,  0,  0,  0],\n",
       "       [10, 12, 12, 17,  3,  1,  0,  0,  0,  0],\n",
       "       [10, 12, 12, 17,  3,  1,  0,  0,  0,  0],\n",
       "       [10, 12, 12, 17,  3,  1,  0,  0,  0,  0],\n",
       "       [10, 12, 12, 17,  3,  1,  0,  0,  0,  0],\n",
       "       [10, 12, 12, 17,  3,  1,  0,  0,  0,  0],\n",
       "       [10, 12, 12, 17,  3,  1,  0,  0,  0,  0],\n",
       "       [10, 12, 12, 17,  3,  1,  0,  0,  0,  0],\n",
       "       [10, 12, 12, 17,  3,  1,  0,  0,  0,  0],\n",
       "       [10, 12, 12, 17,  3,  1,  0,  0,  0,  0],\n",
       "       [10, 12, 12, 17,  3,  1,  0,  0,  0,  0],\n",
       "       [10, 12, 12, 17,  3,  1,  0,  0,  0,  0],\n",
       "       [10, 12, 12, 17,  3,  1,  0,  0,  0,  0],\n",
       "       [10, 12, 12, 17,  3,  1,  0,  0,  0,  0],\n",
       "       [10, 12, 12, 17,  3,  1,  0,  0,  0,  0],\n",
       "       [10, 12, 12, 17,  3,  1,  0,  0,  0,  0],\n",
       "       [10, 12, 12, 17,  3,  1,  0,  0,  0,  0],\n",
       "       [10, 12, 12, 17,  3,  1,  0,  0,  0,  0],\n",
       "       [10, 12, 12, 17,  3,  1,  0,  0,  0,  0],\n",
       "       [10, 12, 12, 17,  3,  1,  0,  0,  0,  0],\n",
       "       [10, 12, 12, 17,  3,  1,  0,  0,  0,  0],\n",
       "       [10, 12, 12, 17,  3,  1,  0,  0,  0,  0],\n",
       "       [10, 12, 12, 17,  3,  1,  0,  0,  0,  0],\n",
       "       [10, 12, 12, 17,  3,  1,  0,  0,  0,  0],\n",
       "       [10, 12, 12, 17,  3,  1,  0,  0,  0,  0],\n",
       "       [10, 12, 12, 17,  3,  1,  0,  0,  0,  0],\n",
       "       [10, 12, 12, 17,  3,  1,  0,  0,  0,  0],\n",
       "       [10, 12, 12, 17,  3,  1,  0,  0,  0,  0],\n",
       "       [10, 12, 12, 17,  3,  1,  0,  0,  0,  0],\n",
       "       [10, 12, 12, 17,  3,  1,  0,  0,  0,  0],\n",
       "       [10, 12, 12, 17,  3,  1,  0,  0,  0,  0],\n",
       "       [10, 12, 12, 17,  3,  1,  0,  0,  0,  0],\n",
       "       [10, 12, 12, 17,  3,  1,  0,  0,  0,  0],\n",
       "       [10, 12, 12, 17,  3,  1,  0,  0,  0,  0],\n",
       "       [10, 12, 12, 17,  3,  1,  0,  0,  0,  0],\n",
       "       [10, 12, 12, 17,  3,  1,  0,  0,  0,  0],\n",
       "       [10, 12, 12, 17,  3,  1,  0,  0,  0,  0],\n",
       "       [10, 12, 12, 17,  3,  1,  0,  0,  0,  0],\n",
       "       [10, 12, 12, 17,  3,  1,  0,  0,  0,  0],\n",
       "       [10, 12, 12, 17,  3,  1,  0,  0,  0,  0],\n",
       "       [10, 12, 12, 17,  3,  1,  0,  0,  0,  0],\n",
       "       [10, 12, 12, 17,  3,  1,  0,  0,  0,  0],\n",
       "       [10, 12, 12, 17,  3,  1,  0,  0,  0,  0],\n",
       "       [10, 12, 12, 17,  3,  1,  0,  0,  0,  0],\n",
       "       [10, 12, 12, 17,  3,  1,  0,  0,  0,  0],\n",
       "       [10, 12, 12, 17,  3,  1,  0,  0,  0,  0],\n",
       "       [10, 12, 12, 17,  3,  1,  0,  0,  0,  0],\n",
       "       [10, 12, 12, 17,  3,  1,  0,  0,  0,  0],\n",
       "       [10, 12, 12, 17,  3,  1,  0,  0,  0,  0],\n",
       "       [10, 12, 12, 17,  3,  1,  0,  0,  0,  0],\n",
       "       [10, 12, 12, 17,  3,  1,  0,  0,  0,  0],\n",
       "       [10, 12, 12, 17,  3,  1,  0,  0,  0,  0],\n",
       "       [10, 12, 12, 17,  3,  1,  0,  0,  0,  0],\n",
       "       [10, 12, 12, 17,  3,  1,  0,  0,  0,  0]], dtype=int32)"
      ]
     },
     "execution_count": 20,
     "metadata": {},
     "output_type": "execute_result"
    }
   ],
   "source": [
    "bbb[1]"
   ]
  },
  {
   "cell_type": "code",
   "execution_count": 23,
   "metadata": {
    "collapsed": false
   },
   "outputs": [
    {
     "name": "stdout",
     "output_type": "stream",
     "text": [
      "11\n",
      "7\n",
      "8\n",
      "21\n",
      "21\n",
      "25\n",
      "21\n",
      "21\n",
      "25\n",
      "21\n"
     ]
    }
   ],
   "source": [
    "for x in range(len(ppp)):\n",
    "    print(np.argmax(ppp[x], axis=1)[0])"
   ]
  },
  {
   "cell_type": "code",
   "execution_count": 42,
   "metadata": {
    "collapsed": false
   },
   "outputs": [
    {
     "data": {
      "text/plain": [
       "[<matplotlib.lines.Line2D at 0x11e73cf60>]"
      ]
     },
     "execution_count": 42,
     "metadata": {},
     "output_type": "execute_result"
    },
    {
     "data": {
      "image/png": "[encoded data removed]",
      "text/plain": [
       "<matplotlib.figure.Figure at 0x11bb630f0>"
      ]
     },
     "metadata": {},
     "output_type": "display_data"
    }
   ],
   "source": [
    "from matplotlib import pyplot as plt\n",
    "%matplotlib inline\n",
    "\n",
    "plt.plot(norms)"
   ]
  },
  {
   "cell_type": "code",
   "execution_count": 36,
   "metadata": {
    "collapsed": false
   },
   "outputs": [
    {
     "data": {
      "text/plain": [
       "[<matplotlib.lines.Line2D at 0x11cfc1780>]"
      ]
     },
     "execution_count": 36,
     "metadata": {},
     "output_type": "execute_result"
    },
    {
     "data": {
      "image/png": "[encoded data removed]",
      "text/plain": [
       "<matplotlib.figure.Figure at 0x11c6f5c50>"
      ]
     },
     "metadata": {},
     "output_type": "display_data"
    }
   ],
   "source": [
    "plt.plot(norms)"
   ]
  },
  {
   "cell_type": "code",
   "execution_count": 15,
   "metadata": {
    "collapsed": false
   },
   "outputs": [
    {
     "ename": "NameError",
     "evalue": "name 'plt' is not defined",
     "output_type": "error",
     "traceback": [
      "\u001b[0;31m---------------------------------------------------------------------------\u001b[0m",
      "\u001b[0;31mNameError\u001b[0m                                 Traceback (most recent call last)",
      "\u001b[0;32m<ipython-input-15-0485924740ab>\u001b[0m in \u001b[0;36m<module>\u001b[0;34m()\u001b[0m\n\u001b[0;32m----> 1\u001b[0;31m \u001b[0mplt\u001b[0m\u001b[0;34m.\u001b[0m\u001b[0mplot\u001b[0m\u001b[0;34m(\u001b[0m\u001b[0mnorms\u001b[0m\u001b[0;34m)\u001b[0m\u001b[0;34m\u001b[0m\u001b[0m\n\u001b[0m",
      "\u001b[0;31mNameError\u001b[0m: name 'plt' is not defined"
     ]
    }
   ],
   "source": [
    "plt.plot(norms)"
   ]
  },
  {
   "cell_type": "code",
   "execution_count": null,
   "metadata": {
    "collapsed": true
   },
   "outputs": [],
   "source": []
  }
 ],
 "metadata": {
  "anaconda-cloud": {},
  "kernelspec": {
   "display_name": "Python [venv3]",
   "language": "python",
   "name": "Python [venv3]"
  },
  "language_info": {
   "codemirror_mode": {
    "name": "ipython",
    "version": 3
   },
   "file_extension": ".py",
   "mimetype": "text/x-python",
   "name": "python",
   "nbconvert_exporter": "python",
   "pygments_lexer": "ipython3",
   "version": "3.5.2"
  }
 },
 "nbformat": 4,
 "nbformat_minor": 0
}
